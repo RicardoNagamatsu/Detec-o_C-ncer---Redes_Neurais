{
  "nbformat": 4,
  "nbformat_minor": 0,
  "metadata": {
    "accelerator": "GPU",
    "colab": {
      "name": "Projeto_Deteccao_de_Cancer_version2_final.ipynb",
      "provenance": [],
      "collapsed_sections": [],
      "machine_shape": "hm"
    },
    "kernelspec": {
      "display_name": "Python 3",
      "language": "python",
      "name": "python3"
    },
    "language_info": {
      "codemirror_mode": {
        "name": "ipython",
        "version": 3
      },
      "file_extension": ".py",
      "mimetype": "text/x-python",
      "name": "python",
      "nbconvert_exporter": "python",
      "pygments_lexer": "ipython3",
      "version": "3.8.5"
    }
  },
  "cells": [
    {
      "cell_type": "code",
      "metadata": {
        "colab": {
          "base_uri": "https://localhost:8080/"
        },
        "id": "OudaCVthKXOm",
        "outputId": "5a5ddef2-97cd-4889-de9d-ffdc9517a6f2"
      },
      "source": [
        "from google.colab import drive\n",
        "drive.mount(\"/content/gdrive\")"
      ],
      "execution_count": 1,
      "outputs": [
        {
          "output_type": "stream",
          "text": [
            "Drive already mounted at /content/gdrive; to attempt to forcibly remount, call drive.mount(\"/content/gdrive\", force_remount=True).\n"
          ],
          "name": "stdout"
        }
      ]
    },
    {
      "cell_type": "code",
      "metadata": {
        "id": "lbPp5llCEvW-"
      },
      "source": [
        "import pandas as pd\n",
        "from tensorflow import keras\n",
        "import numpy as np"
      ],
      "execution_count": 2,
      "outputs": []
    },
    {
      "cell_type": "code",
      "metadata": {
        "id": "GmVua0HzEvXB"
      },
      "source": [
        "df_treino_2017 = pd.read_csv('/content/gdrive/MyDrive/Colab Notebooks/descritivos/isic_2017_treino.csv')\n",
        "df_treino_2018 = pd.read_csv('/content/gdrive/MyDrive/Colab Notebooks/descritivos/isic_2018_treino.csv')"
      ],
      "execution_count": 3,
      "outputs": []
    },
    {
      "cell_type": "markdown",
      "metadata": {
        "id": "v7r7QbxlEvXC"
      },
      "source": [
        "## Tratando 2017"
      ]
    },
    {
      "cell_type": "code",
      "metadata": {
        "colab": {
          "base_uri": "https://localhost:8080/",
          "height": 202
        },
        "id": "haFY8JK7EvXC",
        "outputId": "e75c253c-81e6-4d0f-e532-5f0b73a7694c"
      },
      "source": [
        "df_treino_2017.head()"
      ],
      "execution_count": 4,
      "outputs": [
        {
          "output_type": "execute_result",
          "data": {
            "text/html": [
              "<div>\n",
              "<style scoped>\n",
              "    .dataframe tbody tr th:only-of-type {\n",
              "        vertical-align: middle;\n",
              "    }\n",
              "\n",
              "    .dataframe tbody tr th {\n",
              "        vertical-align: top;\n",
              "    }\n",
              "\n",
              "    .dataframe thead th {\n",
              "        text-align: right;\n",
              "    }\n",
              "</style>\n",
              "<table border=\"1\" class=\"dataframe\">\n",
              "  <thead>\n",
              "    <tr style=\"text-align: right;\">\n",
              "      <th></th>\n",
              "      <th>image_id</th>\n",
              "      <th>melanoma</th>\n",
              "      <th>seborrheic_keratosis</th>\n",
              "    </tr>\n",
              "  </thead>\n",
              "  <tbody>\n",
              "    <tr>\n",
              "      <th>0</th>\n",
              "      <td>ISIC_0000000</td>\n",
              "      <td>0.0</td>\n",
              "      <td>0.0</td>\n",
              "    </tr>\n",
              "    <tr>\n",
              "      <th>1</th>\n",
              "      <td>ISIC_0000001</td>\n",
              "      <td>0.0</td>\n",
              "      <td>0.0</td>\n",
              "    </tr>\n",
              "    <tr>\n",
              "      <th>2</th>\n",
              "      <td>ISIC_0000002</td>\n",
              "      <td>1.0</td>\n",
              "      <td>0.0</td>\n",
              "    </tr>\n",
              "    <tr>\n",
              "      <th>3</th>\n",
              "      <td>ISIC_0000003</td>\n",
              "      <td>0.0</td>\n",
              "      <td>0.0</td>\n",
              "    </tr>\n",
              "    <tr>\n",
              "      <th>4</th>\n",
              "      <td>ISIC_0000004</td>\n",
              "      <td>1.0</td>\n",
              "      <td>0.0</td>\n",
              "    </tr>\n",
              "  </tbody>\n",
              "</table>\n",
              "</div>"
            ],
            "text/plain": [
              "       image_id  melanoma  seborrheic_keratosis\n",
              "0  ISIC_0000000       0.0                   0.0\n",
              "1  ISIC_0000001       0.0                   0.0\n",
              "2  ISIC_0000002       1.0                   0.0\n",
              "3  ISIC_0000003       0.0                   0.0\n",
              "4  ISIC_0000004       1.0                   0.0"
            ]
          },
          "metadata": {
            "tags": []
          },
          "execution_count": 4
        }
      ]
    },
    {
      "cell_type": "code",
      "metadata": {
        "colab": {
          "base_uri": "https://localhost:8080/",
          "height": 202
        },
        "id": "_G-e3IijEvXD",
        "outputId": "00599657-f55c-43b8-f5fb-c22d6b35018d"
      },
      "source": [
        "df_treino_2017['nevus'] = ((df_treino_2017.melanoma == 0) & (df_treino_2017.seborrheic_keratosis == 0)).astype(float)\n",
        "df_treino_2017.head()"
      ],
      "execution_count": 5,
      "outputs": [
        {
          "output_type": "execute_result",
          "data": {
            "text/html": [
              "<div>\n",
              "<style scoped>\n",
              "    .dataframe tbody tr th:only-of-type {\n",
              "        vertical-align: middle;\n",
              "    }\n",
              "\n",
              "    .dataframe tbody tr th {\n",
              "        vertical-align: top;\n",
              "    }\n",
              "\n",
              "    .dataframe thead th {\n",
              "        text-align: right;\n",
              "    }\n",
              "</style>\n",
              "<table border=\"1\" class=\"dataframe\">\n",
              "  <thead>\n",
              "    <tr style=\"text-align: right;\">\n",
              "      <th></th>\n",
              "      <th>image_id</th>\n",
              "      <th>melanoma</th>\n",
              "      <th>seborrheic_keratosis</th>\n",
              "      <th>nevus</th>\n",
              "    </tr>\n",
              "  </thead>\n",
              "  <tbody>\n",
              "    <tr>\n",
              "      <th>0</th>\n",
              "      <td>ISIC_0000000</td>\n",
              "      <td>0.0</td>\n",
              "      <td>0.0</td>\n",
              "      <td>1.0</td>\n",
              "    </tr>\n",
              "    <tr>\n",
              "      <th>1</th>\n",
              "      <td>ISIC_0000001</td>\n",
              "      <td>0.0</td>\n",
              "      <td>0.0</td>\n",
              "      <td>1.0</td>\n",
              "    </tr>\n",
              "    <tr>\n",
              "      <th>2</th>\n",
              "      <td>ISIC_0000002</td>\n",
              "      <td>1.0</td>\n",
              "      <td>0.0</td>\n",
              "      <td>0.0</td>\n",
              "    </tr>\n",
              "    <tr>\n",
              "      <th>3</th>\n",
              "      <td>ISIC_0000003</td>\n",
              "      <td>0.0</td>\n",
              "      <td>0.0</td>\n",
              "      <td>1.0</td>\n",
              "    </tr>\n",
              "    <tr>\n",
              "      <th>4</th>\n",
              "      <td>ISIC_0000004</td>\n",
              "      <td>1.0</td>\n",
              "      <td>0.0</td>\n",
              "      <td>0.0</td>\n",
              "    </tr>\n",
              "  </tbody>\n",
              "</table>\n",
              "</div>"
            ],
            "text/plain": [
              "       image_id  melanoma  seborrheic_keratosis  nevus\n",
              "0  ISIC_0000000       0.0                   0.0    1.0\n",
              "1  ISIC_0000001       0.0                   0.0    1.0\n",
              "2  ISIC_0000002       1.0                   0.0    0.0\n",
              "3  ISIC_0000003       0.0                   0.0    1.0\n",
              "4  ISIC_0000004       1.0                   0.0    0.0"
            ]
          },
          "metadata": {
            "tags": []
          },
          "execution_count": 5
        }
      ]
    },
    {
      "cell_type": "code",
      "metadata": {
        "colab": {
          "base_uri": "https://localhost:8080/"
        },
        "id": "O37cfsjPEvXE",
        "outputId": "54df0fee-06d9-45ea-fef5-eb7dfa5ec2b3"
      },
      "source": [
        "df_treino_2017.shape"
      ],
      "execution_count": 6,
      "outputs": [
        {
          "output_type": "execute_result",
          "data": {
            "text/plain": [
              "(2000, 4)"
            ]
          },
          "metadata": {
            "tags": []
          },
          "execution_count": 6
        }
      ]
    },
    {
      "cell_type": "code",
      "metadata": {
        "colab": {
          "base_uri": "https://localhost:8080/"
        },
        "id": "tvQeh4yVEvXE",
        "outputId": "7ede0603-10cc-4fa3-b1d8-53d85b435bee"
      },
      "source": [
        "df_treino_2017 = df_treino_2017[(df_treino_2017.melanoma == 1) | (df_treino_2017.nevus == 1)]\n",
        "df_treino_2017.shape"
      ],
      "execution_count": 7,
      "outputs": [
        {
          "output_type": "execute_result",
          "data": {
            "text/plain": [
              "(1746, 4)"
            ]
          },
          "metadata": {
            "tags": []
          },
          "execution_count": 7
        }
      ]
    },
    {
      "cell_type": "code",
      "metadata": {
        "colab": {
          "base_uri": "https://localhost:8080/"
        },
        "id": "YwNZGxaXEvXF",
        "outputId": "0bda4cfd-481f-47b0-f589-f07c47b4592e"
      },
      "source": [
        "df_treino_2017.melanoma.value_counts()"
      ],
      "execution_count": 8,
      "outputs": [
        {
          "output_type": "execute_result",
          "data": {
            "text/plain": [
              "0.0    1372\n",
              "1.0     374\n",
              "Name: melanoma, dtype: int64"
            ]
          },
          "metadata": {
            "tags": []
          },
          "execution_count": 8
        }
      ]
    },
    {
      "cell_type": "markdown",
      "metadata": {
        "id": "uqtThXP9EvXF"
      },
      "source": [
        "## Tratando 2018"
      ]
    },
    {
      "cell_type": "code",
      "metadata": {
        "colab": {
          "base_uri": "https://localhost:8080/",
          "height": 202
        },
        "id": "pc7_R-KGEvXG",
        "outputId": "107cd8ad-67d6-493c-8b36-526d7aa10702"
      },
      "source": [
        "df_treino_2018.head()"
      ],
      "execution_count": 9,
      "outputs": [
        {
          "output_type": "execute_result",
          "data": {
            "text/html": [
              "<div>\n",
              "<style scoped>\n",
              "    .dataframe tbody tr th:only-of-type {\n",
              "        vertical-align: middle;\n",
              "    }\n",
              "\n",
              "    .dataframe tbody tr th {\n",
              "        vertical-align: top;\n",
              "    }\n",
              "\n",
              "    .dataframe thead th {\n",
              "        text-align: right;\n",
              "    }\n",
              "</style>\n",
              "<table border=\"1\" class=\"dataframe\">\n",
              "  <thead>\n",
              "    <tr style=\"text-align: right;\">\n",
              "      <th></th>\n",
              "      <th>image</th>\n",
              "      <th>MEL</th>\n",
              "      <th>NV</th>\n",
              "      <th>BCC</th>\n",
              "      <th>AKIEC</th>\n",
              "      <th>BKL</th>\n",
              "      <th>DF</th>\n",
              "      <th>VASC</th>\n",
              "    </tr>\n",
              "  </thead>\n",
              "  <tbody>\n",
              "    <tr>\n",
              "      <th>0</th>\n",
              "      <td>ISIC_0024306</td>\n",
              "      <td>0.0</td>\n",
              "      <td>1.0</td>\n",
              "      <td>0.0</td>\n",
              "      <td>0.0</td>\n",
              "      <td>0.0</td>\n",
              "      <td>0.0</td>\n",
              "      <td>0.0</td>\n",
              "    </tr>\n",
              "    <tr>\n",
              "      <th>1</th>\n",
              "      <td>ISIC_0024307</td>\n",
              "      <td>0.0</td>\n",
              "      <td>1.0</td>\n",
              "      <td>0.0</td>\n",
              "      <td>0.0</td>\n",
              "      <td>0.0</td>\n",
              "      <td>0.0</td>\n",
              "      <td>0.0</td>\n",
              "    </tr>\n",
              "    <tr>\n",
              "      <th>2</th>\n",
              "      <td>ISIC_0024308</td>\n",
              "      <td>0.0</td>\n",
              "      <td>1.0</td>\n",
              "      <td>0.0</td>\n",
              "      <td>0.0</td>\n",
              "      <td>0.0</td>\n",
              "      <td>0.0</td>\n",
              "      <td>0.0</td>\n",
              "    </tr>\n",
              "    <tr>\n",
              "      <th>3</th>\n",
              "      <td>ISIC_0024309</td>\n",
              "      <td>0.0</td>\n",
              "      <td>1.0</td>\n",
              "      <td>0.0</td>\n",
              "      <td>0.0</td>\n",
              "      <td>0.0</td>\n",
              "      <td>0.0</td>\n",
              "      <td>0.0</td>\n",
              "    </tr>\n",
              "    <tr>\n",
              "      <th>4</th>\n",
              "      <td>ISIC_0024310</td>\n",
              "      <td>1.0</td>\n",
              "      <td>0.0</td>\n",
              "      <td>0.0</td>\n",
              "      <td>0.0</td>\n",
              "      <td>0.0</td>\n",
              "      <td>0.0</td>\n",
              "      <td>0.0</td>\n",
              "    </tr>\n",
              "  </tbody>\n",
              "</table>\n",
              "</div>"
            ],
            "text/plain": [
              "          image  MEL   NV  BCC  AKIEC  BKL   DF  VASC\n",
              "0  ISIC_0024306  0.0  1.0  0.0    0.0  0.0  0.0   0.0\n",
              "1  ISIC_0024307  0.0  1.0  0.0    0.0  0.0  0.0   0.0\n",
              "2  ISIC_0024308  0.0  1.0  0.0    0.0  0.0  0.0   0.0\n",
              "3  ISIC_0024309  0.0  1.0  0.0    0.0  0.0  0.0   0.0\n",
              "4  ISIC_0024310  1.0  0.0  0.0    0.0  0.0  0.0   0.0"
            ]
          },
          "metadata": {
            "tags": []
          },
          "execution_count": 9
        }
      ]
    },
    {
      "cell_type": "code",
      "metadata": {
        "colab": {
          "base_uri": "https://localhost:8080/"
        },
        "id": "un6DfTvGEvXG",
        "outputId": "b1d96bbd-8ea8-4424-c554-8e56e60be14e"
      },
      "source": [
        "df_treino_2018.shape"
      ],
      "execution_count": 10,
      "outputs": [
        {
          "output_type": "execute_result",
          "data": {
            "text/plain": [
              "(10015, 8)"
            ]
          },
          "metadata": {
            "tags": []
          },
          "execution_count": 10
        }
      ]
    },
    {
      "cell_type": "code",
      "metadata": {
        "colab": {
          "base_uri": "https://localhost:8080/"
        },
        "id": "LmlmyNCiEvXG",
        "outputId": "52278d28-e4b2-43f4-c0b5-650268593b1b"
      },
      "source": [
        "df_treino_2018 = df_treino_2018[df_treino_2018.MEL == 1]\n",
        "df_treino_2018.shape"
      ],
      "execution_count": 11,
      "outputs": [
        {
          "output_type": "execute_result",
          "data": {
            "text/plain": [
              "(1113, 8)"
            ]
          },
          "metadata": {
            "tags": []
          },
          "execution_count": 11
        }
      ]
    },
    {
      "cell_type": "raw",
      "metadata": {
        "id": "7qYXTOCEEvXH"
      },
      "source": [
        "Ao todo (juntando as duas bases):\n",
        "1113 + 374 = 1487 Melanoma\n",
        "1372 Nevus"
      ]
    },
    {
      "cell_type": "markdown",
      "metadata": {
        "id": "wWS6y3CvEvXH"
      },
      "source": [
        "## Juntar as duas bases"
      ]
    },
    {
      "cell_type": "code",
      "metadata": {
        "colab": {
          "base_uri": "https://localhost:8080/",
          "height": 202
        },
        "id": "fOzFkY-fEvXI",
        "outputId": "c6b96c01-b59c-42a1-9742-9b19f344ff16"
      },
      "source": [
        "df_treino_2018 = df_treino_2018.loc[:, ['image', 'MEL', 'NV']]\n",
        "df_treino_2018.head()"
      ],
      "execution_count": 12,
      "outputs": [
        {
          "output_type": "execute_result",
          "data": {
            "text/html": [
              "<div>\n",
              "<style scoped>\n",
              "    .dataframe tbody tr th:only-of-type {\n",
              "        vertical-align: middle;\n",
              "    }\n",
              "\n",
              "    .dataframe tbody tr th {\n",
              "        vertical-align: top;\n",
              "    }\n",
              "\n",
              "    .dataframe thead th {\n",
              "        text-align: right;\n",
              "    }\n",
              "</style>\n",
              "<table border=\"1\" class=\"dataframe\">\n",
              "  <thead>\n",
              "    <tr style=\"text-align: right;\">\n",
              "      <th></th>\n",
              "      <th>image</th>\n",
              "      <th>MEL</th>\n",
              "      <th>NV</th>\n",
              "    </tr>\n",
              "  </thead>\n",
              "  <tbody>\n",
              "    <tr>\n",
              "      <th>4</th>\n",
              "      <td>ISIC_0024310</td>\n",
              "      <td>1.0</td>\n",
              "      <td>0.0</td>\n",
              "    </tr>\n",
              "    <tr>\n",
              "      <th>7</th>\n",
              "      <td>ISIC_0024313</td>\n",
              "      <td>1.0</td>\n",
              "      <td>0.0</td>\n",
              "    </tr>\n",
              "    <tr>\n",
              "      <th>9</th>\n",
              "      <td>ISIC_0024315</td>\n",
              "      <td>1.0</td>\n",
              "      <td>0.0</td>\n",
              "    </tr>\n",
              "    <tr>\n",
              "      <th>17</th>\n",
              "      <td>ISIC_0024323</td>\n",
              "      <td>1.0</td>\n",
              "      <td>0.0</td>\n",
              "    </tr>\n",
              "    <tr>\n",
              "      <th>27</th>\n",
              "      <td>ISIC_0024333</td>\n",
              "      <td>1.0</td>\n",
              "      <td>0.0</td>\n",
              "    </tr>\n",
              "  </tbody>\n",
              "</table>\n",
              "</div>"
            ],
            "text/plain": [
              "           image  MEL   NV\n",
              "4   ISIC_0024310  1.0  0.0\n",
              "7   ISIC_0024313  1.0  0.0\n",
              "9   ISIC_0024315  1.0  0.0\n",
              "17  ISIC_0024323  1.0  0.0\n",
              "27  ISIC_0024333  1.0  0.0"
            ]
          },
          "metadata": {
            "tags": []
          },
          "execution_count": 12
        }
      ]
    },
    {
      "cell_type": "code",
      "metadata": {
        "colab": {
          "base_uri": "https://localhost:8080/",
          "height": 202
        },
        "id": "vNj7AhPGEvXI",
        "outputId": "21810324-656e-45a0-d5ee-bf8f7023b3e5"
      },
      "source": [
        "df_treino_2018.columns = ['image', 'melanoma', 'nevus']\n",
        "df_treino_2018.head()"
      ],
      "execution_count": 13,
      "outputs": [
        {
          "output_type": "execute_result",
          "data": {
            "text/html": [
              "<div>\n",
              "<style scoped>\n",
              "    .dataframe tbody tr th:only-of-type {\n",
              "        vertical-align: middle;\n",
              "    }\n",
              "\n",
              "    .dataframe tbody tr th {\n",
              "        vertical-align: top;\n",
              "    }\n",
              "\n",
              "    .dataframe thead th {\n",
              "        text-align: right;\n",
              "    }\n",
              "</style>\n",
              "<table border=\"1\" class=\"dataframe\">\n",
              "  <thead>\n",
              "    <tr style=\"text-align: right;\">\n",
              "      <th></th>\n",
              "      <th>image</th>\n",
              "      <th>melanoma</th>\n",
              "      <th>nevus</th>\n",
              "    </tr>\n",
              "  </thead>\n",
              "  <tbody>\n",
              "    <tr>\n",
              "      <th>4</th>\n",
              "      <td>ISIC_0024310</td>\n",
              "      <td>1.0</td>\n",
              "      <td>0.0</td>\n",
              "    </tr>\n",
              "    <tr>\n",
              "      <th>7</th>\n",
              "      <td>ISIC_0024313</td>\n",
              "      <td>1.0</td>\n",
              "      <td>0.0</td>\n",
              "    </tr>\n",
              "    <tr>\n",
              "      <th>9</th>\n",
              "      <td>ISIC_0024315</td>\n",
              "      <td>1.0</td>\n",
              "      <td>0.0</td>\n",
              "    </tr>\n",
              "    <tr>\n",
              "      <th>17</th>\n",
              "      <td>ISIC_0024323</td>\n",
              "      <td>1.0</td>\n",
              "      <td>0.0</td>\n",
              "    </tr>\n",
              "    <tr>\n",
              "      <th>27</th>\n",
              "      <td>ISIC_0024333</td>\n",
              "      <td>1.0</td>\n",
              "      <td>0.0</td>\n",
              "    </tr>\n",
              "  </tbody>\n",
              "</table>\n",
              "</div>"
            ],
            "text/plain": [
              "           image  melanoma  nevus\n",
              "4   ISIC_0024310       1.0    0.0\n",
              "7   ISIC_0024313       1.0    0.0\n",
              "9   ISIC_0024315       1.0    0.0\n",
              "17  ISIC_0024323       1.0    0.0\n",
              "27  ISIC_0024333       1.0    0.0"
            ]
          },
          "metadata": {
            "tags": []
          },
          "execution_count": 13
        }
      ]
    },
    {
      "cell_type": "code",
      "metadata": {
        "colab": {
          "base_uri": "https://localhost:8080/",
          "height": 202
        },
        "id": "13GDIZyGEvXI",
        "outputId": "3ce466de-6f8d-49de-efef-d11923f32a89"
      },
      "source": [
        "df_treino_2017 = df_treino_2017.loc[:, ['image_id', 'melanoma', 'nevus']]\n",
        "df_treino_2017.head()"
      ],
      "execution_count": 14,
      "outputs": [
        {
          "output_type": "execute_result",
          "data": {
            "text/html": [
              "<div>\n",
              "<style scoped>\n",
              "    .dataframe tbody tr th:only-of-type {\n",
              "        vertical-align: middle;\n",
              "    }\n",
              "\n",
              "    .dataframe tbody tr th {\n",
              "        vertical-align: top;\n",
              "    }\n",
              "\n",
              "    .dataframe thead th {\n",
              "        text-align: right;\n",
              "    }\n",
              "</style>\n",
              "<table border=\"1\" class=\"dataframe\">\n",
              "  <thead>\n",
              "    <tr style=\"text-align: right;\">\n",
              "      <th></th>\n",
              "      <th>image_id</th>\n",
              "      <th>melanoma</th>\n",
              "      <th>nevus</th>\n",
              "    </tr>\n",
              "  </thead>\n",
              "  <tbody>\n",
              "    <tr>\n",
              "      <th>0</th>\n",
              "      <td>ISIC_0000000</td>\n",
              "      <td>0.0</td>\n",
              "      <td>1.0</td>\n",
              "    </tr>\n",
              "    <tr>\n",
              "      <th>1</th>\n",
              "      <td>ISIC_0000001</td>\n",
              "      <td>0.0</td>\n",
              "      <td>1.0</td>\n",
              "    </tr>\n",
              "    <tr>\n",
              "      <th>2</th>\n",
              "      <td>ISIC_0000002</td>\n",
              "      <td>1.0</td>\n",
              "      <td>0.0</td>\n",
              "    </tr>\n",
              "    <tr>\n",
              "      <th>3</th>\n",
              "      <td>ISIC_0000003</td>\n",
              "      <td>0.0</td>\n",
              "      <td>1.0</td>\n",
              "    </tr>\n",
              "    <tr>\n",
              "      <th>4</th>\n",
              "      <td>ISIC_0000004</td>\n",
              "      <td>1.0</td>\n",
              "      <td>0.0</td>\n",
              "    </tr>\n",
              "  </tbody>\n",
              "</table>\n",
              "</div>"
            ],
            "text/plain": [
              "       image_id  melanoma  nevus\n",
              "0  ISIC_0000000       0.0    1.0\n",
              "1  ISIC_0000001       0.0    1.0\n",
              "2  ISIC_0000002       1.0    0.0\n",
              "3  ISIC_0000003       0.0    1.0\n",
              "4  ISIC_0000004       1.0    0.0"
            ]
          },
          "metadata": {
            "tags": []
          },
          "execution_count": 14
        }
      ]
    },
    {
      "cell_type": "code",
      "metadata": {
        "colab": {
          "base_uri": "https://localhost:8080/",
          "height": 202
        },
        "id": "OFCT5dNiEvXJ",
        "outputId": "96fb666f-f87e-48b5-a04a-a17eefaaf626"
      },
      "source": [
        "df_treino_2017.columns = ['image', 'melanoma', 'nevus']\n",
        "df_treino_2017.head()"
      ],
      "execution_count": 15,
      "outputs": [
        {
          "output_type": "execute_result",
          "data": {
            "text/html": [
              "<div>\n",
              "<style scoped>\n",
              "    .dataframe tbody tr th:only-of-type {\n",
              "        vertical-align: middle;\n",
              "    }\n",
              "\n",
              "    .dataframe tbody tr th {\n",
              "        vertical-align: top;\n",
              "    }\n",
              "\n",
              "    .dataframe thead th {\n",
              "        text-align: right;\n",
              "    }\n",
              "</style>\n",
              "<table border=\"1\" class=\"dataframe\">\n",
              "  <thead>\n",
              "    <tr style=\"text-align: right;\">\n",
              "      <th></th>\n",
              "      <th>image</th>\n",
              "      <th>melanoma</th>\n",
              "      <th>nevus</th>\n",
              "    </tr>\n",
              "  </thead>\n",
              "  <tbody>\n",
              "    <tr>\n",
              "      <th>0</th>\n",
              "      <td>ISIC_0000000</td>\n",
              "      <td>0.0</td>\n",
              "      <td>1.0</td>\n",
              "    </tr>\n",
              "    <tr>\n",
              "      <th>1</th>\n",
              "      <td>ISIC_0000001</td>\n",
              "      <td>0.0</td>\n",
              "      <td>1.0</td>\n",
              "    </tr>\n",
              "    <tr>\n",
              "      <th>2</th>\n",
              "      <td>ISIC_0000002</td>\n",
              "      <td>1.0</td>\n",
              "      <td>0.0</td>\n",
              "    </tr>\n",
              "    <tr>\n",
              "      <th>3</th>\n",
              "      <td>ISIC_0000003</td>\n",
              "      <td>0.0</td>\n",
              "      <td>1.0</td>\n",
              "    </tr>\n",
              "    <tr>\n",
              "      <th>4</th>\n",
              "      <td>ISIC_0000004</td>\n",
              "      <td>1.0</td>\n",
              "      <td>0.0</td>\n",
              "    </tr>\n",
              "  </tbody>\n",
              "</table>\n",
              "</div>"
            ],
            "text/plain": [
              "          image  melanoma  nevus\n",
              "0  ISIC_0000000       0.0    1.0\n",
              "1  ISIC_0000001       0.0    1.0\n",
              "2  ISIC_0000002       1.0    0.0\n",
              "3  ISIC_0000003       0.0    1.0\n",
              "4  ISIC_0000004       1.0    0.0"
            ]
          },
          "metadata": {
            "tags": []
          },
          "execution_count": 15
        }
      ]
    },
    {
      "cell_type": "code",
      "metadata": {
        "colab": {
          "base_uri": "https://localhost:8080/",
          "height": 202
        },
        "id": "ETkXPLPgEvXJ",
        "outputId": "da9aa586-a8b9-44d4-9af1-394bda4e70c5"
      },
      "source": [
        "df_treino = pd.concat([df_treino_2017, df_treino_2018], axis = 0)\n",
        "df_treino.head()"
      ],
      "execution_count": 16,
      "outputs": [
        {
          "output_type": "execute_result",
          "data": {
            "text/html": [
              "<div>\n",
              "<style scoped>\n",
              "    .dataframe tbody tr th:only-of-type {\n",
              "        vertical-align: middle;\n",
              "    }\n",
              "\n",
              "    .dataframe tbody tr th {\n",
              "        vertical-align: top;\n",
              "    }\n",
              "\n",
              "    .dataframe thead th {\n",
              "        text-align: right;\n",
              "    }\n",
              "</style>\n",
              "<table border=\"1\" class=\"dataframe\">\n",
              "  <thead>\n",
              "    <tr style=\"text-align: right;\">\n",
              "      <th></th>\n",
              "      <th>image</th>\n",
              "      <th>melanoma</th>\n",
              "      <th>nevus</th>\n",
              "    </tr>\n",
              "  </thead>\n",
              "  <tbody>\n",
              "    <tr>\n",
              "      <th>0</th>\n",
              "      <td>ISIC_0000000</td>\n",
              "      <td>0.0</td>\n",
              "      <td>1.0</td>\n",
              "    </tr>\n",
              "    <tr>\n",
              "      <th>1</th>\n",
              "      <td>ISIC_0000001</td>\n",
              "      <td>0.0</td>\n",
              "      <td>1.0</td>\n",
              "    </tr>\n",
              "    <tr>\n",
              "      <th>2</th>\n",
              "      <td>ISIC_0000002</td>\n",
              "      <td>1.0</td>\n",
              "      <td>0.0</td>\n",
              "    </tr>\n",
              "    <tr>\n",
              "      <th>3</th>\n",
              "      <td>ISIC_0000003</td>\n",
              "      <td>0.0</td>\n",
              "      <td>1.0</td>\n",
              "    </tr>\n",
              "    <tr>\n",
              "      <th>4</th>\n",
              "      <td>ISIC_0000004</td>\n",
              "      <td>1.0</td>\n",
              "      <td>0.0</td>\n",
              "    </tr>\n",
              "  </tbody>\n",
              "</table>\n",
              "</div>"
            ],
            "text/plain": [
              "          image  melanoma  nevus\n",
              "0  ISIC_0000000       0.0    1.0\n",
              "1  ISIC_0000001       0.0    1.0\n",
              "2  ISIC_0000002       1.0    0.0\n",
              "3  ISIC_0000003       0.0    1.0\n",
              "4  ISIC_0000004       1.0    0.0"
            ]
          },
          "metadata": {
            "tags": []
          },
          "execution_count": 16
        }
      ]
    },
    {
      "cell_type": "code",
      "metadata": {
        "colab": {
          "base_uri": "https://localhost:8080/"
        },
        "id": "7ciavDsBEvXJ",
        "outputId": "03773912-dba3-44bb-c7c1-c27167838ab0"
      },
      "source": [
        "df_treino.shape"
      ],
      "execution_count": 17,
      "outputs": [
        {
          "output_type": "execute_result",
          "data": {
            "text/plain": [
              "(2859, 3)"
            ]
          },
          "metadata": {
            "tags": []
          },
          "execution_count": 17
        }
      ]
    },
    {
      "cell_type": "code",
      "metadata": {
        "colab": {
          "base_uri": "https://localhost:8080/"
        },
        "id": "vFc5RXo-EvXK",
        "outputId": "f7dc0c7c-2bda-4d90-d738-cc1e8f0c5561"
      },
      "source": [
        "df_treino.image.nunique()"
      ],
      "execution_count": 18,
      "outputs": [
        {
          "output_type": "execute_result",
          "data": {
            "text/plain": [
              "2859"
            ]
          },
          "metadata": {
            "tags": []
          },
          "execution_count": 18
        }
      ]
    },
    {
      "cell_type": "code",
      "metadata": {
        "colab": {
          "base_uri": "https://localhost:8080/"
        },
        "id": "HUeRP6A0EvXK",
        "outputId": "f4f7b9f4-6b75-4fdf-d174-f3515274aa54"
      },
      "source": [
        "(df_treino.melanoma + df_treino.nevus).sum()"
      ],
      "execution_count": 19,
      "outputs": [
        {
          "output_type": "execute_result",
          "data": {
            "text/plain": [
              "2859.0"
            ]
          },
          "metadata": {
            "tags": []
          },
          "execution_count": 19
        }
      ]
    },
    {
      "cell_type": "code",
      "metadata": {
        "colab": {
          "base_uri": "https://localhost:8080/"
        },
        "id": "b7y7-mLGEvXK",
        "outputId": "b2cd0cb4-efb5-45c2-9128-8ede14393fc2"
      },
      "source": [
        "(df_treino.melanoma + df_treino.nevus).all()"
      ],
      "execution_count": 20,
      "outputs": [
        {
          "output_type": "execute_result",
          "data": {
            "text/plain": [
              "True"
            ]
          },
          "metadata": {
            "tags": []
          },
          "execution_count": 20
        }
      ]
    },
    {
      "cell_type": "code",
      "metadata": {
        "colab": {
          "base_uri": "https://localhost:8080/",
          "height": 202
        },
        "id": "UqKQvGL6EvXL",
        "outputId": "af3b8572-e6c0-41e3-b515-de01533f42b8"
      },
      "source": [
        "df_treino.head()"
      ],
      "execution_count": 21,
      "outputs": [
        {
          "output_type": "execute_result",
          "data": {
            "text/html": [
              "<div>\n",
              "<style scoped>\n",
              "    .dataframe tbody tr th:only-of-type {\n",
              "        vertical-align: middle;\n",
              "    }\n",
              "\n",
              "    .dataframe tbody tr th {\n",
              "        vertical-align: top;\n",
              "    }\n",
              "\n",
              "    .dataframe thead th {\n",
              "        text-align: right;\n",
              "    }\n",
              "</style>\n",
              "<table border=\"1\" class=\"dataframe\">\n",
              "  <thead>\n",
              "    <tr style=\"text-align: right;\">\n",
              "      <th></th>\n",
              "      <th>image</th>\n",
              "      <th>melanoma</th>\n",
              "      <th>nevus</th>\n",
              "    </tr>\n",
              "  </thead>\n",
              "  <tbody>\n",
              "    <tr>\n",
              "      <th>0</th>\n",
              "      <td>ISIC_0000000</td>\n",
              "      <td>0.0</td>\n",
              "      <td>1.0</td>\n",
              "    </tr>\n",
              "    <tr>\n",
              "      <th>1</th>\n",
              "      <td>ISIC_0000001</td>\n",
              "      <td>0.0</td>\n",
              "      <td>1.0</td>\n",
              "    </tr>\n",
              "    <tr>\n",
              "      <th>2</th>\n",
              "      <td>ISIC_0000002</td>\n",
              "      <td>1.0</td>\n",
              "      <td>0.0</td>\n",
              "    </tr>\n",
              "    <tr>\n",
              "      <th>3</th>\n",
              "      <td>ISIC_0000003</td>\n",
              "      <td>0.0</td>\n",
              "      <td>1.0</td>\n",
              "    </tr>\n",
              "    <tr>\n",
              "      <th>4</th>\n",
              "      <td>ISIC_0000004</td>\n",
              "      <td>1.0</td>\n",
              "      <td>0.0</td>\n",
              "    </tr>\n",
              "  </tbody>\n",
              "</table>\n",
              "</div>"
            ],
            "text/plain": [
              "          image  melanoma  nevus\n",
              "0  ISIC_0000000       0.0    1.0\n",
              "1  ISIC_0000001       0.0    1.0\n",
              "2  ISIC_0000002       1.0    0.0\n",
              "3  ISIC_0000003       0.0    1.0\n",
              "4  ISIC_0000004       1.0    0.0"
            ]
          },
          "metadata": {
            "tags": []
          },
          "execution_count": 21
        }
      ]
    },
    {
      "cell_type": "code",
      "metadata": {
        "id": "5xMpicfAEvXL"
      },
      "source": [
        "df_treino = df_treino.drop('nevus', axis=1)"
      ],
      "execution_count": 22,
      "outputs": []
    },
    {
      "cell_type": "code",
      "metadata": {
        "id": "VxSDfietEvXL"
      },
      "source": [
        "df_treino['image'] = df_treino['image'].apply(lambda x: x + '.jpg')"
      ],
      "execution_count": 23,
      "outputs": []
    },
    {
      "cell_type": "code",
      "metadata": {
        "colab": {
          "base_uri": "https://localhost:8080/",
          "height": 414
        },
        "id": "ir2IKQABEvXL",
        "outputId": "9a128d74-6616-4378-ad2c-9906b30617cb"
      },
      "source": [
        "# melanoma = 1 cancer, melanoma = 0 sem cancer\n",
        "df_treino"
      ],
      "execution_count": 24,
      "outputs": [
        {
          "output_type": "execute_result",
          "data": {
            "text/html": [
              "<div>\n",
              "<style scoped>\n",
              "    .dataframe tbody tr th:only-of-type {\n",
              "        vertical-align: middle;\n",
              "    }\n",
              "\n",
              "    .dataframe tbody tr th {\n",
              "        vertical-align: top;\n",
              "    }\n",
              "\n",
              "    .dataframe thead th {\n",
              "        text-align: right;\n",
              "    }\n",
              "</style>\n",
              "<table border=\"1\" class=\"dataframe\">\n",
              "  <thead>\n",
              "    <tr style=\"text-align: right;\">\n",
              "      <th></th>\n",
              "      <th>image</th>\n",
              "      <th>melanoma</th>\n",
              "    </tr>\n",
              "  </thead>\n",
              "  <tbody>\n",
              "    <tr>\n",
              "      <th>0</th>\n",
              "      <td>ISIC_0000000.jpg</td>\n",
              "      <td>0.0</td>\n",
              "    </tr>\n",
              "    <tr>\n",
              "      <th>1</th>\n",
              "      <td>ISIC_0000001.jpg</td>\n",
              "      <td>0.0</td>\n",
              "    </tr>\n",
              "    <tr>\n",
              "      <th>2</th>\n",
              "      <td>ISIC_0000002.jpg</td>\n",
              "      <td>1.0</td>\n",
              "    </tr>\n",
              "    <tr>\n",
              "      <th>3</th>\n",
              "      <td>ISIC_0000003.jpg</td>\n",
              "      <td>0.0</td>\n",
              "    </tr>\n",
              "    <tr>\n",
              "      <th>4</th>\n",
              "      <td>ISIC_0000004.jpg</td>\n",
              "      <td>1.0</td>\n",
              "    </tr>\n",
              "    <tr>\n",
              "      <th>...</th>\n",
              "      <td>...</td>\n",
              "      <td>...</td>\n",
              "    </tr>\n",
              "    <tr>\n",
              "      <th>9983</th>\n",
              "      <td>ISIC_0034289.jpg</td>\n",
              "      <td>1.0</td>\n",
              "    </tr>\n",
              "    <tr>\n",
              "      <th>9988</th>\n",
              "      <td>ISIC_0034294.jpg</td>\n",
              "      <td>1.0</td>\n",
              "    </tr>\n",
              "    <tr>\n",
              "      <th>10007</th>\n",
              "      <td>ISIC_0034313.jpg</td>\n",
              "      <td>1.0</td>\n",
              "    </tr>\n",
              "    <tr>\n",
              "      <th>10010</th>\n",
              "      <td>ISIC_0034316.jpg</td>\n",
              "      <td>1.0</td>\n",
              "    </tr>\n",
              "    <tr>\n",
              "      <th>10011</th>\n",
              "      <td>ISIC_0034317.jpg</td>\n",
              "      <td>1.0</td>\n",
              "    </tr>\n",
              "  </tbody>\n",
              "</table>\n",
              "<p>2859 rows × 2 columns</p>\n",
              "</div>"
            ],
            "text/plain": [
              "                  image  melanoma\n",
              "0      ISIC_0000000.jpg       0.0\n",
              "1      ISIC_0000001.jpg       0.0\n",
              "2      ISIC_0000002.jpg       1.0\n",
              "3      ISIC_0000003.jpg       0.0\n",
              "4      ISIC_0000004.jpg       1.0\n",
              "...                 ...       ...\n",
              "9983   ISIC_0034289.jpg       1.0\n",
              "9988   ISIC_0034294.jpg       1.0\n",
              "10007  ISIC_0034313.jpg       1.0\n",
              "10010  ISIC_0034316.jpg       1.0\n",
              "10011  ISIC_0034317.jpg       1.0\n",
              "\n",
              "[2859 rows x 2 columns]"
            ]
          },
          "metadata": {
            "tags": []
          },
          "execution_count": 24
        }
      ]
    },
    {
      "cell_type": "markdown",
      "metadata": {
        "id": "I2272_k0EvXM"
      },
      "source": [
        "## Verificando duas imagens"
      ]
    },
    {
      "cell_type": "code",
      "metadata": {
        "id": "XnoDVSEyEvXM"
      },
      "source": [
        "import cv2\n",
        "import matplotlib.pyplot as plt"
      ],
      "execution_count": 25,
      "outputs": []
    },
    {
      "cell_type": "code",
      "metadata": {
        "id": "qWiQQ42YEvXM"
      },
      "source": [
        "sample = cv2.imread(\"/content/gdrive/MyDrive/isic_treino/ISIC_0000000.jpg\")"
      ],
      "execution_count": 26,
      "outputs": []
    },
    {
      "cell_type": "code",
      "metadata": {
        "id": "0Qbq0kcVEvXM",
        "colab": {
          "base_uri": "https://localhost:8080/",
          "height": 268
        },
        "outputId": "02a3815b-fcfc-40e2-8b18-1f4998727665"
      },
      "source": [
        "plt.imshow(sample)\n",
        "plt.show()"
      ],
      "execution_count": 27,
      "outputs": [
        {
          "output_type": "display_data",
          "data": {
            "image/png": "[encoded data removed]",
            "text/plain": [
              "<Figure size 432x288 with 1 Axes>"
            ]
          },
          "metadata": {
            "tags": [],
            "needs_background": "light"
          }
        }
      ]
    },
    {
      "cell_type": "code",
      "metadata": {
        "id": "DecUCL7GEoHv",
        "colab": {
          "base_uri": "https://localhost:8080/"
        },
        "outputId": "3cd2ee24-17bd-46f6-e5c5-c74b5c83c150"
      },
      "source": [
        "sample.shape"
      ],
      "execution_count": 28,
      "outputs": [
        {
          "output_type": "execute_result",
          "data": {
            "text/plain": [
              "(767, 1022, 3)"
            ]
          },
          "metadata": {
            "tags": []
          },
          "execution_count": 28
        }
      ]
    },
    {
      "cell_type": "code",
      "metadata": {
        "id": "It9QvDSrEvXN",
        "colab": {
          "base_uri": "https://localhost:8080/",
          "height": 268
        },
        "outputId": "32404fd7-a5d1-4fe4-d751-f8fd7cad489d"
      },
      "source": [
        "sample = cv2.imread(\"/content/gdrive/MyDrive/isic_treino/ISIC_0000004.jpg\")\n",
        "plt.imshow(sample)\n",
        "plt.show()"
      ],
      "execution_count": 29,
      "outputs": [
        {
          "output_type": "display_data",
          "data": {
            "image/png": "[encoded data removed]",
            "text/plain": [
              "<Figure size 432x288 with 1 Axes>"
            ]
          },
          "metadata": {
            "tags": [],
            "needs_background": "light"
          }
        }
      ]
    },
    {
      "cell_type": "markdown",
      "metadata": {
        "id": "DjmmCv9sEvXR"
      },
      "source": [
        "## Tratando DataSet de Validação"
      ]
    },
    {
      "cell_type": "code",
      "metadata": {
        "id": "OL93fgkGEvXR"
      },
      "source": [
        "df_validacao = pd.read_csv('/content/gdrive/MyDrive/Colab Notebooks/descritivos/isic_2017_validacao.csv')"
      ],
      "execution_count": 30,
      "outputs": []
    },
    {
      "cell_type": "code",
      "metadata": {
        "colab": {
          "base_uri": "https://localhost:8080/",
          "height": 202
        },
        "id": "dbjcL5atEvXR",
        "outputId": "dac12d59-42a6-4396-c7a4-c597c2f65c60"
      },
      "source": [
        "df_validacao['nevus'] = ((df_validacao.melanoma == 0) & (df_validacao.seborrheic_keratosis == 0)).astype(float)\n",
        "df_validacao.head()"
      ],
      "execution_count": 31,
      "outputs": [
        {
          "output_type": "execute_result",
          "data": {
            "text/html": [
              "<div>\n",
              "<style scoped>\n",
              "    .dataframe tbody tr th:only-of-type {\n",
              "        vertical-align: middle;\n",
              "    }\n",
              "\n",
              "    .dataframe tbody tr th {\n",
              "        vertical-align: top;\n",
              "    }\n",
              "\n",
              "    .dataframe thead th {\n",
              "        text-align: right;\n",
              "    }\n",
              "</style>\n",
              "<table border=\"1\" class=\"dataframe\">\n",
              "  <thead>\n",
              "    <tr style=\"text-align: right;\">\n",
              "      <th></th>\n",
              "      <th>image_id</th>\n",
              "      <th>melanoma</th>\n",
              "      <th>seborrheic_keratosis</th>\n",
              "      <th>nevus</th>\n",
              "    </tr>\n",
              "  </thead>\n",
              "  <tbody>\n",
              "    <tr>\n",
              "      <th>0</th>\n",
              "      <td>ISIC_0001769</td>\n",
              "      <td>0.0</td>\n",
              "      <td>0.0</td>\n",
              "      <td>1.0</td>\n",
              "    </tr>\n",
              "    <tr>\n",
              "      <th>1</th>\n",
              "      <td>ISIC_0001852</td>\n",
              "      <td>0.0</td>\n",
              "      <td>0.0</td>\n",
              "      <td>1.0</td>\n",
              "    </tr>\n",
              "    <tr>\n",
              "      <th>2</th>\n",
              "      <td>ISIC_0001871</td>\n",
              "      <td>0.0</td>\n",
              "      <td>0.0</td>\n",
              "      <td>1.0</td>\n",
              "    </tr>\n",
              "    <tr>\n",
              "      <th>3</th>\n",
              "      <td>ISIC_0003462</td>\n",
              "      <td>0.0</td>\n",
              "      <td>0.0</td>\n",
              "      <td>1.0</td>\n",
              "    </tr>\n",
              "    <tr>\n",
              "      <th>4</th>\n",
              "      <td>ISIC_0003539</td>\n",
              "      <td>0.0</td>\n",
              "      <td>0.0</td>\n",
              "      <td>1.0</td>\n",
              "    </tr>\n",
              "  </tbody>\n",
              "</table>\n",
              "</div>"
            ],
            "text/plain": [
              "       image_id  melanoma  seborrheic_keratosis  nevus\n",
              "0  ISIC_0001769       0.0                   0.0    1.0\n",
              "1  ISIC_0001852       0.0                   0.0    1.0\n",
              "2  ISIC_0001871       0.0                   0.0    1.0\n",
              "3  ISIC_0003462       0.0                   0.0    1.0\n",
              "4  ISIC_0003539       0.0                   0.0    1.0"
            ]
          },
          "metadata": {
            "tags": []
          },
          "execution_count": 31
        }
      ]
    },
    {
      "cell_type": "code",
      "metadata": {
        "colab": {
          "base_uri": "https://localhost:8080/",
          "height": 202
        },
        "id": "H2B3ysakEvXS",
        "outputId": "1da5d332-6df3-40f0-abad-81f85c9104f9"
      },
      "source": [
        "df_validacao = df_validacao[(df_validacao.melanoma == 1) | (df_validacao.nevus == 1)]\n",
        "df_validacao.head()"
      ],
      "execution_count": 32,
      "outputs": [
        {
          "output_type": "execute_result",
          "data": {
            "text/html": [
              "<div>\n",
              "<style scoped>\n",
              "    .dataframe tbody tr th:only-of-type {\n",
              "        vertical-align: middle;\n",
              "    }\n",
              "\n",
              "    .dataframe tbody tr th {\n",
              "        vertical-align: top;\n",
              "    }\n",
              "\n",
              "    .dataframe thead th {\n",
              "        text-align: right;\n",
              "    }\n",
              "</style>\n",
              "<table border=\"1\" class=\"dataframe\">\n",
              "  <thead>\n",
              "    <tr style=\"text-align: right;\">\n",
              "      <th></th>\n",
              "      <th>image_id</th>\n",
              "      <th>melanoma</th>\n",
              "      <th>seborrheic_keratosis</th>\n",
              "      <th>nevus</th>\n",
              "    </tr>\n",
              "  </thead>\n",
              "  <tbody>\n",
              "    <tr>\n",
              "      <th>0</th>\n",
              "      <td>ISIC_0001769</td>\n",
              "      <td>0.0</td>\n",
              "      <td>0.0</td>\n",
              "      <td>1.0</td>\n",
              "    </tr>\n",
              "    <tr>\n",
              "      <th>1</th>\n",
              "      <td>ISIC_0001852</td>\n",
              "      <td>0.0</td>\n",
              "      <td>0.0</td>\n",
              "      <td>1.0</td>\n",
              "    </tr>\n",
              "    <tr>\n",
              "      <th>2</th>\n",
              "      <td>ISIC_0001871</td>\n",
              "      <td>0.0</td>\n",
              "      <td>0.0</td>\n",
              "      <td>1.0</td>\n",
              "    </tr>\n",
              "    <tr>\n",
              "      <th>3</th>\n",
              "      <td>ISIC_0003462</td>\n",
              "      <td>0.0</td>\n",
              "      <td>0.0</td>\n",
              "      <td>1.0</td>\n",
              "    </tr>\n",
              "    <tr>\n",
              "      <th>4</th>\n",
              "      <td>ISIC_0003539</td>\n",
              "      <td>0.0</td>\n",
              "      <td>0.0</td>\n",
              "      <td>1.0</td>\n",
              "    </tr>\n",
              "  </tbody>\n",
              "</table>\n",
              "</div>"
            ],
            "text/plain": [
              "       image_id  melanoma  seborrheic_keratosis  nevus\n",
              "0  ISIC_0001769       0.0                   0.0    1.0\n",
              "1  ISIC_0001852       0.0                   0.0    1.0\n",
              "2  ISIC_0001871       0.0                   0.0    1.0\n",
              "3  ISIC_0003462       0.0                   0.0    1.0\n",
              "4  ISIC_0003539       0.0                   0.0    1.0"
            ]
          },
          "metadata": {
            "tags": []
          },
          "execution_count": 32
        }
      ]
    },
    {
      "cell_type": "code",
      "metadata": {
        "id": "-_P-XmMNEvXS"
      },
      "source": [
        "df_validacao = df_validacao[(df_validacao.melanoma == 1) | (df_validacao.nevus == 1)]"
      ],
      "execution_count": 33,
      "outputs": []
    },
    {
      "cell_type": "code",
      "metadata": {
        "colab": {
          "base_uri": "https://localhost:8080/"
        },
        "id": "4fSWUoQ1EvXS",
        "outputId": "bfca97a7-696b-443f-e9cd-f6f21865ede9"
      },
      "source": [
        "df_validacao.sum()"
      ],
      "execution_count": 34,
      "outputs": [
        {
          "output_type": "execute_result",
          "data": {
            "text/plain": [
              "image_id                ISIC_0001769ISIC_0001852ISIC_0001871ISIC_00034...\n",
              "melanoma                                                               30\n",
              "seborrheic_keratosis                                                    0\n",
              "nevus                                                                  78\n",
              "dtype: object"
            ]
          },
          "metadata": {
            "tags": []
          },
          "execution_count": 34
        }
      ]
    },
    {
      "cell_type": "code",
      "metadata": {
        "id": "E-QuQAhpEvXS"
      },
      "source": [
        "df_validacao = df_validacao.drop(['nevus', 'seborrheic_keratosis'], axis=1)"
      ],
      "execution_count": 35,
      "outputs": []
    },
    {
      "cell_type": "code",
      "metadata": {
        "id": "2aeX7moUEvXT"
      },
      "source": [
        "df_validacao.columns = ['image', 'melanoma']"
      ],
      "execution_count": 36,
      "outputs": []
    },
    {
      "cell_type": "code",
      "metadata": {
        "colab": {
          "base_uri": "https://localhost:8080/",
          "height": 414
        },
        "id": "WYiw0-rTEvXT",
        "outputId": "45010f19-18f8-48d7-9755-2549f9fb012f"
      },
      "source": [
        "df_validacao['image'] = df_validacao['image'].apply(lambda x: x + '.jpg')\n",
        "df_validacao"
      ],
      "execution_count": 37,
      "outputs": [
        {
          "output_type": "execute_result",
          "data": {
            "text/html": [
              "<div>\n",
              "<style scoped>\n",
              "    .dataframe tbody tr th:only-of-type {\n",
              "        vertical-align: middle;\n",
              "    }\n",
              "\n",
              "    .dataframe tbody tr th {\n",
              "        vertical-align: top;\n",
              "    }\n",
              "\n",
              "    .dataframe thead th {\n",
              "        text-align: right;\n",
              "    }\n",
              "</style>\n",
              "<table border=\"1\" class=\"dataframe\">\n",
              "  <thead>\n",
              "    <tr style=\"text-align: right;\">\n",
              "      <th></th>\n",
              "      <th>image</th>\n",
              "      <th>melanoma</th>\n",
              "    </tr>\n",
              "  </thead>\n",
              "  <tbody>\n",
              "    <tr>\n",
              "      <th>0</th>\n",
              "      <td>ISIC_0001769.jpg</td>\n",
              "      <td>0.0</td>\n",
              "    </tr>\n",
              "    <tr>\n",
              "      <th>1</th>\n",
              "      <td>ISIC_0001852.jpg</td>\n",
              "      <td>0.0</td>\n",
              "    </tr>\n",
              "    <tr>\n",
              "      <th>2</th>\n",
              "      <td>ISIC_0001871.jpg</td>\n",
              "      <td>0.0</td>\n",
              "    </tr>\n",
              "    <tr>\n",
              "      <th>3</th>\n",
              "      <td>ISIC_0003462.jpg</td>\n",
              "      <td>0.0</td>\n",
              "    </tr>\n",
              "    <tr>\n",
              "      <th>4</th>\n",
              "      <td>ISIC_0003539.jpg</td>\n",
              "      <td>0.0</td>\n",
              "    </tr>\n",
              "    <tr>\n",
              "      <th>...</th>\n",
              "      <td>...</td>\n",
              "      <td>...</td>\n",
              "    </tr>\n",
              "    <tr>\n",
              "      <th>145</th>\n",
              "      <td>ISIC_0015443.jpg</td>\n",
              "      <td>0.0</td>\n",
              "    </tr>\n",
              "    <tr>\n",
              "      <th>146</th>\n",
              "      <td>ISIC_0015445.jpg</td>\n",
              "      <td>0.0</td>\n",
              "    </tr>\n",
              "    <tr>\n",
              "      <th>147</th>\n",
              "      <td>ISIC_0015483.jpg</td>\n",
              "      <td>0.0</td>\n",
              "    </tr>\n",
              "    <tr>\n",
              "      <th>148</th>\n",
              "      <td>ISIC_0015496.jpg</td>\n",
              "      <td>0.0</td>\n",
              "    </tr>\n",
              "    <tr>\n",
              "      <th>149</th>\n",
              "      <td>ISIC_0015627.jpg</td>\n",
              "      <td>0.0</td>\n",
              "    </tr>\n",
              "  </tbody>\n",
              "</table>\n",
              "<p>108 rows × 2 columns</p>\n",
              "</div>"
            ],
            "text/plain": [
              "                image  melanoma\n",
              "0    ISIC_0001769.jpg       0.0\n",
              "1    ISIC_0001852.jpg       0.0\n",
              "2    ISIC_0001871.jpg       0.0\n",
              "3    ISIC_0003462.jpg       0.0\n",
              "4    ISIC_0003539.jpg       0.0\n",
              "..                ...       ...\n",
              "145  ISIC_0015443.jpg       0.0\n",
              "146  ISIC_0015445.jpg       0.0\n",
              "147  ISIC_0015483.jpg       0.0\n",
              "148  ISIC_0015496.jpg       0.0\n",
              "149  ISIC_0015627.jpg       0.0\n",
              "\n",
              "[108 rows x 2 columns]"
            ]
          },
          "metadata": {
            "tags": []
          },
          "execution_count": 37
        }
      ]
    },
    {
      "cell_type": "code",
      "metadata": {
        "id": "mvOpxd_fh5cd"
      },
      "source": [
        ""
      ],
      "execution_count": 37,
      "outputs": []
    },
    {
      "cell_type": "markdown",
      "metadata": {
        "id": "oEnwUrfvEvXN"
      },
      "source": [
        "## Criando o Gerador"
      ]
    },
    {
      "cell_type": "code",
      "metadata": {
        "id": "E6PSUkdVEvXO"
      },
      "source": [
        ""
      ],
      "execution_count": 37,
      "outputs": []
    },
    {
      "cell_type": "code",
      "metadata": {
        "colab": {
          "base_uri": "https://localhost:8080/"
        },
        "id": "X-8d8Di9EvXO",
        "outputId": "9f34aceb-8125-4b7f-d669-4b0c300ffaca"
      },
      "source": [
        "train_aug = keras.preprocessing.image.ImageDataGenerator(\n",
        "    rescale=1/255.,\n",
        "    horizontal_flip=True,\n",
        "    vertical_flip=True,\n",
        "    rotation_range=180, #180\n",
        "    zoom_range=0.3,\n",
        "    height_shift_range=0.3,\n",
        "    width_shift_range=0.30,\n",
        "    shear_range=0.3,\n",
        "    channel_shift_range= 0.0,\n",
        "    brightness_range= None,\n",
        "    fill_mode= 'constant', \n",
        ")\n",
        "\n",
        "train_generator = train_aug.flow_from_dataframe(\n",
        "    dataframe=df_treino,\n",
        "    directory=\"/content/gdrive/MyDrive/isic_treino\",\n",
        "    x_col=\"image\",\n",
        "    y_col=\"melanoma\",\n",
        "    class_mode='raw',\n",
        "    target_size=(224,224),\n",
        "    #color_mode= \"grayscale\",\n",
        "    batch_size=32)"
      ],
      "execution_count": 38,
      "outputs": [
        {
          "output_type": "stream",
          "text": [
            "Found 2859 validated image filenames.\n"
          ],
          "name": "stdout"
        }
      ]
    },
    {
      "cell_type": "markdown",
      "metadata": {
        "id": "sZCznOyPh5ce"
      },
      "source": [
        "### Gerador validação"
      ]
    },
    {
      "cell_type": "code",
      "metadata": {
        "colab": {
          "base_uri": "https://localhost:8080/"
        },
        "id": "x7Vu6nRREvXT",
        "outputId": "b317d501-97d4-44e0-ac38-19995643bf1f"
      },
      "source": [
        "validacao_aug = keras.preprocessing.image.ImageDataGenerator(\n",
        "    rescale=1/255.,\n",
        "   \n",
        ")\n",
        "\n",
        "validacao_generator = validacao_aug.flow_from_dataframe(\n",
        "  dataframe=df_validacao,\n",
        "    directory=\"/content/gdrive/MyDrive/isic_2017_validacao/isic_2017_validacao\",\n",
        "    x_col=\"image\",\n",
        "    y_col=\"melanoma\",\n",
        "    class_mode='raw',\n",
        "    target_size=(224,224),\n",
        "    #color_mode= \"grayscale\",\n",
        "    batch_size=32)"
      ],
      "execution_count": 39,
      "outputs": [
        {
          "output_type": "stream",
          "text": [
            "Found 108 validated image filenames.\n"
          ],
          "name": "stdout"
        }
      ]
    },
    {
      "cell_type": "code",
      "metadata": {
        "id": "6n0SBdc9h5ci"
      },
      "source": [
        ""
      ],
      "execution_count": 39,
      "outputs": []
    },
    {
      "cell_type": "markdown",
      "metadata": {
        "id": "pd02YfL6EvXO"
      },
      "source": [
        "## Realizando o Transfer Learning"
      ]
    },
    {
      "cell_type": "code",
      "metadata": {
        "id": "5eZ0tD3iEvXP",
        "colab": {
          "base_uri": "https://localhost:8080/"
        },
        "outputId": "6ebc39ab-1399-4e5a-b6cf-866c2f71bbde"
      },
      "source": [
        "base_model = keras.applications.VGG16(weights=\"imagenet\", include_top=False) # ResNet - VGG16-19"
      ],
      "execution_count": 40,
      "outputs": [
        {
          "output_type": "stream",
          "text": [
            "Downloading data from https://storage.googleapis.com/tensorflow/keras-applications/vgg16/vgg16_weights_tf_dim_ordering_tf_kernels_notop.h5\n",
            "58892288/58889256 [==============================] - 1s 0us/step\n"
          ],
          "name": "stdout"
        }
      ]
    },
    {
      "cell_type": "code",
      "metadata": {
        "id": "Xh5-Rwt8EvXP"
      },
      "source": [
        "# Transfer Learning\n",
        "base_model.trainable = False\n",
        "input1 = keras.layers.Input(shape=((224,224,3)))\n",
        "x1 = base_model(input1, training=False)\n",
        "x1 = keras.layers.Flatten()(x1)\n",
        "x1 = keras.layers.Dropout(0.2)(x1)\n",
        "x1 = keras.layers.Dense(128, activation='relu')(x1)\n",
        "x1 = keras.layers.Dropout(0.3)(x1)\n",
        "x1 = keras.layers.Dense(64, activation='relu')(x1)\n",
        "x1 = keras.layers.Dense(32, activation='relu')(x1)\n",
        "x1 = keras.layers.Dense(16, activation='relu')(x1)\n",
        "\n",
        "\n",
        "outputs = keras.layers.Dense(1, activation='sigmoid')(x1)\n",
        "\n",
        "model = keras.models.Model(inputs=input1, outputs=outputs)"
      ],
      "execution_count": 41,
      "outputs": []
    },
    {
      "cell_type": "code",
      "metadata": {
        "colab": {
          "base_uri": "https://localhost:8080/"
        },
        "id": "9RjBk6VkEKTq",
        "outputId": "ebdbd249-7a10-4188-9dc0-e19cdc336180"
      },
      "source": [
        "model.summary()"
      ],
      "execution_count": 42,
      "outputs": [
        {
          "output_type": "stream",
          "text": [
            "Model: \"model\"\n",
            "_________________________________________________________________\n",
            "Layer (type)                 Output Shape              Param #   \n",
            "=================================================================\n",
            "input_2 (InputLayer)         [(None, 224, 224, 3)]     0         \n",
            "_________________________________________________________________\n",
            "vgg16 (Functional)           (None, None, None, 512)   14714688  \n",
            "_________________________________________________________________\n",
            "flatten (Flatten)            (None, 25088)             0         \n",
            "_________________________________________________________________\n",
            "dropout (Dropout)            (None, 25088)             0         \n",
            "_________________________________________________________________\n",
            "dense (Dense)                (None, 128)               3211392   \n",
            "_________________________________________________________________\n",
            "dropout_1 (Dropout)          (None, 128)               0         \n",
            "_________________________________________________________________\n",
            "dense_1 (Dense)              (None, 64)                8256      \n",
            "_________________________________________________________________\n",
            "dense_2 (Dense)              (None, 32)                2080      \n",
            "_________________________________________________________________\n",
            "dense_3 (Dense)              (None, 16)                528       \n",
            "_________________________________________________________________\n",
            "dense_4 (Dense)              (None, 1)                 17        \n",
            "=================================================================\n",
            "Total params: 17,936,961\n",
            "Trainable params: 3,222,273\n",
            "Non-trainable params: 14,714,688\n",
            "_________________________________________________________________\n"
          ],
          "name": "stdout"
        }
      ]
    },
    {
      "cell_type": "code",
      "metadata": {
        "id": "56UkTMlCEvXP"
      },
      "source": [
        "model.compile(loss=\"binary_crossentropy\", metrics=[\"accuracy\"], optimizer=\"adam\")"
      ],
      "execution_count": 43,
      "outputs": []
    },
    {
      "cell_type": "code",
      "metadata": {
        "colab": {
          "base_uri": "https://localhost:8080/"
        },
        "id": "HNHyaSY8gIJm",
        "outputId": "e07c6c66-6a7b-40ec-9fd3-bdfba3fbd6e8"
      },
      "source": [
        "callbacks= [\n",
        "            keras.callbacks.ModelCheckpoint('/content/gdrive/MyDrive/Colab Notebooks/model.h5', verbose=1, monitor='val_loss', save_best_only=True),\n",
        "            keras.callbacks.EarlyStopping(monitor='val_loss', patience=10, restore_best_weights=True),\n",
        "            keras.callbacks.TensorBoard(log_dir='logs')    \n",
        "]\n",
        "\n",
        "model.fit(x=train_generator,\n",
        "          epochs=50,\n",
        "          steps_per_epoch=len(train_generator),\n",
        "          callbacks=callbacks,\n",
        "          validation_data=validacao_generator)"
      ],
      "execution_count": 44,
      "outputs": [
        {
          "output_type": "stream",
          "text": [
            "Epoch 1/50\n",
            "90/90 [==============================] - 2362s 26s/step - loss: 0.7151 - accuracy: 0.5834 - val_loss: 0.6991 - val_accuracy: 0.6389\n",
            "\n",
            "Epoch 00001: val_loss improved from inf to 0.69907, saving model to /content/gdrive/MyDrive/Colab Notebooks/model.h5\n",
            "Epoch 2/50\n",
            "90/90 [==============================] - 251s 3s/step - loss: 0.6305 - accuracy: 0.6534 - val_loss: 0.5890 - val_accuracy: 0.6759\n",
            "\n",
            "Epoch 00002: val_loss improved from 0.69907 to 0.58903, saving model to /content/gdrive/MyDrive/Colab Notebooks/model.h5\n",
            "Epoch 3/50\n",
            "90/90 [==============================] - 251s 3s/step - loss: 0.6095 - accuracy: 0.6747 - val_loss: 0.6162 - val_accuracy: 0.6759\n",
            "\n",
            "Epoch 00003: val_loss did not improve from 0.58903\n",
            "Epoch 4/50\n",
            "90/90 [==============================] - 250s 3s/step - loss: 0.5856 - accuracy: 0.6898 - val_loss: 0.6081 - val_accuracy: 0.6759\n",
            "\n",
            "Epoch 00004: val_loss did not improve from 0.58903\n",
            "Epoch 5/50\n",
            "90/90 [==============================] - 251s 3s/step - loss: 0.5827 - accuracy: 0.7041 - val_loss: 0.6387 - val_accuracy: 0.6574\n",
            "\n",
            "Epoch 00005: val_loss did not improve from 0.58903\n",
            "Epoch 6/50\n",
            "90/90 [==============================] - 250s 3s/step - loss: 0.5826 - accuracy: 0.6891 - val_loss: 0.6189 - val_accuracy: 0.6667\n",
            "\n",
            "Epoch 00006: val_loss did not improve from 0.58903\n",
            "Epoch 7/50\n",
            "90/90 [==============================] - 250s 3s/step - loss: 0.5687 - accuracy: 0.7093 - val_loss: 0.5903 - val_accuracy: 0.6481\n",
            "\n",
            "Epoch 00007: val_loss did not improve from 0.58903\n",
            "Epoch 8/50\n",
            "90/90 [==============================] - 250s 3s/step - loss: 0.5538 - accuracy: 0.7135 - val_loss: 0.5849 - val_accuracy: 0.6944\n",
            "\n",
            "Epoch 00008: val_loss improved from 0.58903 to 0.58491, saving model to /content/gdrive/MyDrive/Colab Notebooks/model.h5\n",
            "Epoch 9/50\n",
            "90/90 [==============================] - 251s 3s/step - loss: 0.5399 - accuracy: 0.7296 - val_loss: 0.7605 - val_accuracy: 0.6296\n",
            "\n",
            "Epoch 00009: val_loss did not improve from 0.58491\n",
            "Epoch 10/50\n",
            "90/90 [==============================] - 249s 3s/step - loss: 0.5592 - accuracy: 0.7118 - val_loss: 0.6137 - val_accuracy: 0.6667\n",
            "\n",
            "Epoch 00010: val_loss did not improve from 0.58491\n",
            "Epoch 11/50\n",
            "90/90 [==============================] - 249s 3s/step - loss: 0.5362 - accuracy: 0.7328 - val_loss: 0.5744 - val_accuracy: 0.6759\n",
            "\n",
            "Epoch 00011: val_loss improved from 0.58491 to 0.57440, saving model to /content/gdrive/MyDrive/Colab Notebooks/model.h5\n",
            "Epoch 12/50\n",
            "90/90 [==============================] - 250s 3s/step - loss: 0.5447 - accuracy: 0.7261 - val_loss: 0.6226 - val_accuracy: 0.6204\n",
            "\n",
            "Epoch 00012: val_loss did not improve from 0.57440\n",
            "Epoch 13/50\n",
            "90/90 [==============================] - 249s 3s/step - loss: 0.5452 - accuracy: 0.7132 - val_loss: 0.6024 - val_accuracy: 0.6481\n",
            "\n",
            "Epoch 00013: val_loss did not improve from 0.57440\n",
            "Epoch 14/50\n",
            "90/90 [==============================] - 250s 3s/step - loss: 0.5536 - accuracy: 0.6891 - val_loss: 0.6050 - val_accuracy: 0.6759\n",
            "\n",
            "Epoch 00014: val_loss did not improve from 0.57440\n",
            "Epoch 15/50\n",
            "90/90 [==============================] - 250s 3s/step - loss: 0.5393 - accuracy: 0.7114 - val_loss: 0.5682 - val_accuracy: 0.6852\n",
            "\n",
            "Epoch 00015: val_loss improved from 0.57440 to 0.56820, saving model to /content/gdrive/MyDrive/Colab Notebooks/model.h5\n",
            "Epoch 16/50\n",
            "90/90 [==============================] - 250s 3s/step - loss: 0.5221 - accuracy: 0.7384 - val_loss: 0.5818 - val_accuracy: 0.6944\n",
            "\n",
            "Epoch 00016: val_loss did not improve from 0.56820\n",
            "Epoch 17/50\n",
            "90/90 [==============================] - 253s 3s/step - loss: 0.5397 - accuracy: 0.7394 - val_loss: 0.5506 - val_accuracy: 0.7500\n",
            "\n",
            "Epoch 00017: val_loss improved from 0.56820 to 0.55059, saving model to /content/gdrive/MyDrive/Colab Notebooks/model.h5\n",
            "Epoch 18/50\n",
            "90/90 [==============================] - 250s 3s/step - loss: 0.5096 - accuracy: 0.7401 - val_loss: 0.6020 - val_accuracy: 0.6481\n",
            "\n",
            "Epoch 00018: val_loss did not improve from 0.55059\n",
            "Epoch 19/50\n",
            "90/90 [==============================] - 256s 3s/step - loss: 0.5157 - accuracy: 0.7356 - val_loss: 0.5432 - val_accuracy: 0.7037\n",
            "\n",
            "Epoch 00019: val_loss improved from 0.55059 to 0.54316, saving model to /content/gdrive/MyDrive/Colab Notebooks/model.h5\n",
            "Epoch 20/50\n",
            "90/90 [==============================] - 253s 3s/step - loss: 0.5158 - accuracy: 0.7394 - val_loss: 0.5866 - val_accuracy: 0.6667\n",
            "\n",
            "Epoch 00020: val_loss did not improve from 0.54316\n",
            "Epoch 21/50\n",
            "90/90 [==============================] - 253s 3s/step - loss: 0.5102 - accuracy: 0.7506 - val_loss: 0.5964 - val_accuracy: 0.6574\n",
            "\n",
            "Epoch 00021: val_loss did not improve from 0.54316\n",
            "Epoch 22/50\n",
            "90/90 [==============================] - 252s 3s/step - loss: 0.5072 - accuracy: 0.7513 - val_loss: 0.5400 - val_accuracy: 0.7315\n",
            "\n",
            "Epoch 00022: val_loss improved from 0.54316 to 0.53998, saving model to /content/gdrive/MyDrive/Colab Notebooks/model.h5\n",
            "Epoch 23/50\n",
            "90/90 [==============================] - 251s 3s/step - loss: 0.5062 - accuracy: 0.7471 - val_loss: 0.5749 - val_accuracy: 0.6759\n",
            "\n",
            "Epoch 00023: val_loss did not improve from 0.53998\n",
            "Epoch 24/50\n",
            "90/90 [==============================] - 249s 3s/step - loss: 0.5068 - accuracy: 0.7398 - val_loss: 0.5544 - val_accuracy: 0.7315\n",
            "\n",
            "Epoch 00024: val_loss did not improve from 0.53998\n",
            "Epoch 25/50\n",
            "90/90 [==============================] - 249s 3s/step - loss: 0.5130 - accuracy: 0.7265 - val_loss: 0.5497 - val_accuracy: 0.7407\n",
            "\n",
            "Epoch 00025: val_loss did not improve from 0.53998\n",
            "Epoch 26/50\n",
            "90/90 [==============================] - 250s 3s/step - loss: 0.5162 - accuracy: 0.7359 - val_loss: 0.5435 - val_accuracy: 0.7407\n",
            "\n",
            "Epoch 00026: val_loss did not improve from 0.53998\n",
            "Epoch 27/50\n",
            "90/90 [==============================] - 250s 3s/step - loss: 0.5113 - accuracy: 0.7293 - val_loss: 0.5526 - val_accuracy: 0.7407\n",
            "\n",
            "Epoch 00027: val_loss did not improve from 0.53998\n",
            "Epoch 28/50\n",
            "90/90 [==============================] - 250s 3s/step - loss: 0.5000 - accuracy: 0.7440 - val_loss: 0.5822 - val_accuracy: 0.6852\n",
            "\n",
            "Epoch 00028: val_loss did not improve from 0.53998\n",
            "Epoch 29/50\n",
            "90/90 [==============================] - 250s 3s/step - loss: 0.5194 - accuracy: 0.7212 - val_loss: 0.5875 - val_accuracy: 0.7130\n",
            "\n",
            "Epoch 00029: val_loss did not improve from 0.53998\n",
            "Epoch 30/50\n",
            "90/90 [==============================] - 249s 3s/step - loss: 0.5131 - accuracy: 0.7317 - val_loss: 0.5642 - val_accuracy: 0.6944\n",
            "\n",
            "Epoch 00030: val_loss did not improve from 0.53998\n",
            "Epoch 31/50\n",
            "90/90 [==============================] - 252s 3s/step - loss: 0.5186 - accuracy: 0.7279 - val_loss: 0.5428 - val_accuracy: 0.7500\n",
            "\n",
            "Epoch 00031: val_loss did not improve from 0.53998\n",
            "Epoch 32/50\n",
            "90/90 [==============================] - 256s 3s/step - loss: 0.5163 - accuracy: 0.7370 - val_loss: 0.5524 - val_accuracy: 0.7037\n",
            "\n",
            "Epoch 00032: val_loss did not improve from 0.53998\n"
          ],
          "name": "stdout"
        },
        {
          "output_type": "execute_result",
          "data": {
            "text/plain": [
              "<tensorflow.python.keras.callbacks.History at 0x7f205002db50>"
            ]
          },
          "metadata": {
            "tags": []
          },
          "execution_count": 44
        }
      ]
    },
    {
      "cell_type": "markdown",
      "metadata": {
        "id": "HM76SEh8EvXQ"
      },
      "source": [
        "## Realizando o Fine Tuning"
      ]
    },
    {
      "cell_type": "code",
      "metadata": {
        "id": "Wo2gkpIO2gDr"
      },
      "source": [
        "base_model.trainable = True\n",
        "opt = keras.optimizers.Adam(learning_rate=1e-5)\n",
        "model.compile(loss=\"binary_crossentropy\", metrics=[\"accuracy\"], optimizer=opt)"
      ],
      "execution_count": 45,
      "outputs": []
    },
    {
      "cell_type": "code",
      "metadata": {
        "id": "uICo1BhD4Ijb",
        "colab": {
          "base_uri": "https://localhost:8080/"
        },
        "outputId": "59125b7b-b5d1-47a3-91bc-5abcd1232c06"
      },
      "source": [
        "callbacks= [\n",
        "            keras.callbacks.ModelCheckpoint('/content/gdrive/MyDrive/Colab Notebooks/model.h5', verbose=1, monitor='val_loss', save_best_only=True),\n",
        "            keras.callbacks.EarlyStopping(monitor='val_loss', patience=10, restore_best_weights=True),\n",
        "            keras.callbacks.TensorBoard(log_dir='logs')    \n",
        "]\n",
        "\n",
        "model.fit(x=train_generator,\n",
        "          epochs=50,\n",
        "          steps_per_epoch=len(train_generator),\n",
        "          callbacks=callbacks,\n",
        "          validation_data=validacao_generator)"
      ],
      "execution_count": 46,
      "outputs": [
        {
          "output_type": "stream",
          "text": [
            "Epoch 1/50\n",
            "90/90 [==============================] - 276s 3s/step - loss: 0.4781 - accuracy: 0.7726 - val_loss: 0.5998 - val_accuracy: 0.7130\n",
            "\n",
            "Epoch 00001: val_loss improved from inf to 0.59978, saving model to /content/gdrive/MyDrive/Colab Notebooks/model.h5\n",
            "Epoch 2/50\n",
            "90/90 [==============================] - 261s 3s/step - loss: 0.4483 - accuracy: 0.7936 - val_loss: 0.5509 - val_accuracy: 0.7593\n",
            "\n",
            "Epoch 00002: val_loss improved from 0.59978 to 0.55088, saving model to /content/gdrive/MyDrive/Colab Notebooks/model.h5\n",
            "Epoch 3/50\n",
            "90/90 [==============================] - 263s 3s/step - loss: 0.4236 - accuracy: 0.8038 - val_loss: 0.6267 - val_accuracy: 0.7222\n",
            "\n",
            "Epoch 00003: val_loss did not improve from 0.55088\n",
            "Epoch 4/50\n",
            "90/90 [==============================] - 260s 3s/step - loss: 0.4041 - accuracy: 0.8230 - val_loss: 0.5810 - val_accuracy: 0.7315\n",
            "\n",
            "Epoch 00004: val_loss did not improve from 0.55088\n",
            "Epoch 5/50\n",
            "90/90 [==============================] - 258s 3s/step - loss: 0.3929 - accuracy: 0.8251 - val_loss: 0.6073 - val_accuracy: 0.7500\n",
            "\n",
            "Epoch 00005: val_loss did not improve from 0.55088\n",
            "Epoch 6/50\n",
            "90/90 [==============================] - 257s 3s/step - loss: 0.3822 - accuracy: 0.8283 - val_loss: 0.5545 - val_accuracy: 0.7315\n",
            "\n",
            "Epoch 00006: val_loss did not improve from 0.55088\n",
            "Epoch 7/50\n",
            "90/90 [==============================] - 262s 3s/step - loss: 0.3654 - accuracy: 0.8363 - val_loss: 0.5596 - val_accuracy: 0.7593\n",
            "\n",
            "Epoch 00007: val_loss did not improve from 0.55088\n",
            "Epoch 8/50\n",
            "90/90 [==============================] - 260s 3s/step - loss: 0.3586 - accuracy: 0.8409 - val_loss: 0.5964 - val_accuracy: 0.7130\n",
            "\n",
            "Epoch 00008: val_loss did not improve from 0.55088\n",
            "Epoch 9/50\n",
            "90/90 [==============================] - 258s 3s/step - loss: 0.3593 - accuracy: 0.8426 - val_loss: 0.5811 - val_accuracy: 0.7500\n",
            "\n",
            "Epoch 00009: val_loss did not improve from 0.55088\n",
            "Epoch 10/50\n",
            "90/90 [==============================] - 257s 3s/step - loss: 0.3587 - accuracy: 0.8384 - val_loss: 0.5052 - val_accuracy: 0.7870\n",
            "\n",
            "Epoch 00010: val_loss improved from 0.55088 to 0.50522, saving model to /content/gdrive/MyDrive/Colab Notebooks/model.h5\n",
            "Epoch 11/50\n",
            "90/90 [==============================] - 257s 3s/step - loss: 0.3500 - accuracy: 0.8464 - val_loss: 0.5565 - val_accuracy: 0.7315\n",
            "\n",
            "Epoch 00011: val_loss did not improve from 0.50522\n",
            "Epoch 12/50\n",
            "90/90 [==============================] - 257s 3s/step - loss: 0.3601 - accuracy: 0.8391 - val_loss: 0.5806 - val_accuracy: 0.6852\n",
            "\n",
            "Epoch 00012: val_loss did not improve from 0.50522\n",
            "Epoch 13/50\n",
            "90/90 [==============================] - 257s 3s/step - loss: 0.3323 - accuracy: 0.8548 - val_loss: 0.5445 - val_accuracy: 0.7685\n",
            "\n",
            "Epoch 00013: val_loss did not improve from 0.50522\n",
            "Epoch 14/50\n",
            "90/90 [==============================] - 258s 3s/step - loss: 0.3362 - accuracy: 0.8454 - val_loss: 0.5380 - val_accuracy: 0.7593\n",
            "\n",
            "Epoch 00014: val_loss did not improve from 0.50522\n",
            "Epoch 15/50\n",
            "90/90 [==============================] - 257s 3s/step - loss: 0.3176 - accuracy: 0.8503 - val_loss: 0.5309 - val_accuracy: 0.7963\n",
            "\n",
            "Epoch 00015: val_loss did not improve from 0.50522\n",
            "Epoch 16/50\n",
            "90/90 [==============================] - 257s 3s/step - loss: 0.3176 - accuracy: 0.8552 - val_loss: 0.5251 - val_accuracy: 0.7685\n",
            "\n",
            "Epoch 00016: val_loss did not improve from 0.50522\n",
            "Epoch 17/50\n",
            "90/90 [==============================] - 255s 3s/step - loss: 0.3160 - accuracy: 0.8611 - val_loss: 0.5952 - val_accuracy: 0.7407\n",
            "\n",
            "Epoch 00017: val_loss did not improve from 0.50522\n",
            "Epoch 18/50\n",
            "90/90 [==============================] - 254s 3s/step - loss: 0.3143 - accuracy: 0.8597 - val_loss: 0.6068 - val_accuracy: 0.7222\n",
            "\n",
            "Epoch 00018: val_loss did not improve from 0.50522\n",
            "Epoch 19/50\n",
            "90/90 [==============================] - 253s 3s/step - loss: 0.2978 - accuracy: 0.8646 - val_loss: 0.7055 - val_accuracy: 0.7407\n",
            "\n",
            "Epoch 00019: val_loss did not improve from 0.50522\n",
            "Epoch 20/50\n",
            "90/90 [==============================] - 253s 3s/step - loss: 0.3050 - accuracy: 0.8639 - val_loss: 0.5908 - val_accuracy: 0.7407\n",
            "\n",
            "Epoch 00020: val_loss did not improve from 0.50522\n"
          ],
          "name": "stdout"
        },
        {
          "output_type": "execute_result",
          "data": {
            "text/plain": [
              "<tensorflow.python.keras.callbacks.History at 0x7f1fec4381d0>"
            ]
          },
          "metadata": {
            "tags": []
          },
          "execution_count": 46
        }
      ]
    },
    {
      "cell_type": "code",
      "metadata": {
        "id": "CIXj4Kfu8hbU"
      },
      "source": [
        ""
      ],
      "execution_count": 46,
      "outputs": []
    },
    {
      "cell_type": "markdown",
      "metadata": {
        "id": "fnVQ767iEvXU"
      },
      "source": [
        "## Verificando resultado no conjunto de Teste"
      ]
    },
    {
      "cell_type": "code",
      "metadata": {
        "id": "_oR9OaFGEvXU"
      },
      "source": [
        "df_teste = pd.read_csv('/content/gdrive/MyDrive/Colab Notebooks/descritivos/isic_2017_teste.csv')"
      ],
      "execution_count": 47,
      "outputs": []
    },
    {
      "cell_type": "code",
      "metadata": {
        "id": "Ja5gfpaTEvXU"
      },
      "source": [
        "df_teste.columns = ['image']"
      ],
      "execution_count": 48,
      "outputs": []
    },
    {
      "cell_type": "code",
      "metadata": {
        "id": "w735okojEvXV"
      },
      "source": [
        "df_teste['image'] = df_teste['image'].apply(lambda x: x + '.jpg')"
      ],
      "execution_count": 49,
      "outputs": []
    },
    {
      "cell_type": "code",
      "metadata": {
        "id": "ap3nFqYGEvXV",
        "colab": {
          "base_uri": "https://localhost:8080/",
          "height": 414
        },
        "outputId": "14155a57-765e-442d-d543-d4c508513ebc"
      },
      "source": [
        "df_teste"
      ],
      "execution_count": 50,
      "outputs": [
        {
          "output_type": "execute_result",
          "data": {
            "text/html": [
              "<div>\n",
              "<style scoped>\n",
              "    .dataframe tbody tr th:only-of-type {\n",
              "        vertical-align: middle;\n",
              "    }\n",
              "\n",
              "    .dataframe tbody tr th {\n",
              "        vertical-align: top;\n",
              "    }\n",
              "\n",
              "    .dataframe thead th {\n",
              "        text-align: right;\n",
              "    }\n",
              "</style>\n",
              "<table border=\"1\" class=\"dataframe\">\n",
              "  <thead>\n",
              "    <tr style=\"text-align: right;\">\n",
              "      <th></th>\n",
              "      <th>image</th>\n",
              "    </tr>\n",
              "  </thead>\n",
              "  <tbody>\n",
              "    <tr>\n",
              "      <th>0</th>\n",
              "      <td>ISIC_0012086.jpg</td>\n",
              "    </tr>\n",
              "    <tr>\n",
              "      <th>1</th>\n",
              "      <td>ISIC_0012092.jpg</td>\n",
              "    </tr>\n",
              "    <tr>\n",
              "      <th>2</th>\n",
              "      <td>ISIC_0012095.jpg</td>\n",
              "    </tr>\n",
              "    <tr>\n",
              "      <th>3</th>\n",
              "      <td>ISIC_0012134.jpg</td>\n",
              "    </tr>\n",
              "    <tr>\n",
              "      <th>4</th>\n",
              "      <td>ISIC_0012136.jpg</td>\n",
              "    </tr>\n",
              "    <tr>\n",
              "      <th>...</th>\n",
              "      <td>...</td>\n",
              "    </tr>\n",
              "    <tr>\n",
              "      <th>595</th>\n",
              "      <td>ISIC_0016068.jpg</td>\n",
              "    </tr>\n",
              "    <tr>\n",
              "      <th>596</th>\n",
              "      <td>ISIC_0016069.jpg</td>\n",
              "    </tr>\n",
              "    <tr>\n",
              "      <th>597</th>\n",
              "      <td>ISIC_0016070.jpg</td>\n",
              "    </tr>\n",
              "    <tr>\n",
              "      <th>598</th>\n",
              "      <td>ISIC_0016071.jpg</td>\n",
              "    </tr>\n",
              "    <tr>\n",
              "      <th>599</th>\n",
              "      <td>ISIC_0016072.jpg</td>\n",
              "    </tr>\n",
              "  </tbody>\n",
              "</table>\n",
              "<p>600 rows × 1 columns</p>\n",
              "</div>"
            ],
            "text/plain": [
              "                image\n",
              "0    ISIC_0012086.jpg\n",
              "1    ISIC_0012092.jpg\n",
              "2    ISIC_0012095.jpg\n",
              "3    ISIC_0012134.jpg\n",
              "4    ISIC_0012136.jpg\n",
              "..                ...\n",
              "595  ISIC_0016068.jpg\n",
              "596  ISIC_0016069.jpg\n",
              "597  ISIC_0016070.jpg\n",
              "598  ISIC_0016071.jpg\n",
              "599  ISIC_0016072.jpg\n",
              "\n",
              "[600 rows x 1 columns]"
            ]
          },
          "metadata": {
            "tags": []
          },
          "execution_count": 50
        }
      ]
    },
    {
      "cell_type": "code",
      "metadata": {
        "id": "cDKVDWqGEvXV",
        "colab": {
          "base_uri": "https://localhost:8080/"
        },
        "outputId": "86ebe667-e75c-4220-b6f0-fb0d16c045dd"
      },
      "source": [
        "test_aug = keras.preprocessing.image.ImageDataGenerator(\n",
        "    rescale=1/255.,\n",
        "    horizontal_flip=True,\n",
        "    vertical_flip=True,\n",
        "    rotation_range=180, #180\n",
        "    zoom_range=0.3,\n",
        "    height_shift_range=0.3,\n",
        "    width_shift_range=0.30,\n",
        "    shear_range=0.3,\n",
        "    channel_shift_range= 0.0,\n",
        "    brightness_range= None,\n",
        "    fill_mode= 'constant',  \n",
        ")\n",
        "\n",
        "test_generator = test_aug.flow_from_dataframe(\n",
        "    dataframe=df_teste,\n",
        "    directory=\"/content/gdrive/MyDrive/Colab Notebooks/isic_2017_teste/isic_2017_teste\",\n",
        "    x_col=\"image\",\n",
        "    y_col=None,\n",
        "    class_mode=None,\n",
        "    target_size=(224,224),\n",
        "    batch_size=32)"
      ],
      "execution_count": 51,
      "outputs": [
        {
          "output_type": "stream",
          "text": [
            "Found 600 validated image filenames.\n"
          ],
          "name": "stdout"
        }
      ]
    },
    {
      "cell_type": "code",
      "metadata": {
        "id": "FoZFjmY_EvXW",
        "colab": {
          "base_uri": "https://localhost:8080/"
        },
        "outputId": "aec920d6-f475-4cc6-dd19-f4e975bd1bd5"
      },
      "source": [
        "model.predict(test_generator)"
      ],
      "execution_count": 52,
      "outputs": [
        {
          "output_type": "execute_result",
          "data": {
            "text/plain": [
              "array([[0.19510475],\n",
              "       [0.04390364],\n",
              "       [0.7024163 ],\n",
              "       [0.45410398],\n",
              "       [0.17854479],\n",
              "       [0.3734084 ],\n",
              "       [0.27413347],\n",
              "       [0.04962277],\n",
              "       [0.24538282],\n",
              "       [0.45927352],\n",
              "       [0.13316223],\n",
              "       [0.03912805],\n",
              "       [0.47539094],\n",
              "       [0.12219646],\n",
              "       [0.6012198 ],\n",
              "       [0.26489967],\n",
              "       [0.11596248],\n",
              "       [0.18883425],\n",
              "       [0.57907075],\n",
              "       [0.22376761],\n",
              "       [0.90595347],\n",
              "       [0.28235778],\n",
              "       [0.28294444],\n",
              "       [0.35771284],\n",
              "       [0.5965064 ],\n",
              "       [0.26262608],\n",
              "       [0.5646708 ],\n",
              "       [0.30896914],\n",
              "       [0.49701175],\n",
              "       [0.9893049 ],\n",
              "       [0.33771172],\n",
              "       [0.31328994],\n",
              "       [0.20194115],\n",
              "       [0.39369237],\n",
              "       [0.27440768],\n",
              "       [0.24483156],\n",
              "       [0.60172766],\n",
              "       [0.62390345],\n",
              "       [0.07301105],\n",
              "       [0.757492  ],\n",
              "       [0.06994438],\n",
              "       [0.30754557],\n",
              "       [0.72516197],\n",
              "       [0.43673924],\n",
              "       [0.19976746],\n",
              "       [0.44788608],\n",
              "       [0.06110205],\n",
              "       [0.21154374],\n",
              "       [0.5841998 ],\n",
              "       [0.36972854],\n",
              "       [0.34845546],\n",
              "       [0.62075645],\n",
              "       [0.22652832],\n",
              "       [0.19596991],\n",
              "       [0.16471833],\n",
              "       [0.38018084],\n",
              "       [0.15001456],\n",
              "       [0.2122437 ],\n",
              "       [0.3085268 ],\n",
              "       [0.5990874 ],\n",
              "       [0.48750472],\n",
              "       [0.6372679 ],\n",
              "       [0.13392742],\n",
              "       [0.19284697],\n",
              "       [0.2320229 ],\n",
              "       [0.847507  ],\n",
              "       [0.5034433 ],\n",
              "       [0.2254273 ],\n",
              "       [0.04450373],\n",
              "       [0.20339349],\n",
              "       [0.17184216],\n",
              "       [0.33903506],\n",
              "       [0.44231433],\n",
              "       [0.4097421 ],\n",
              "       [0.06944425],\n",
              "       [0.6502935 ],\n",
              "       [0.32186198],\n",
              "       [0.21309164],\n",
              "       [0.26021713],\n",
              "       [0.06327619],\n",
              "       [0.6467916 ],\n",
              "       [0.4991058 ],\n",
              "       [0.14492103],\n",
              "       [0.24639325],\n",
              "       [0.3282596 ],\n",
              "       [0.285608  ],\n",
              "       [0.16964169],\n",
              "       [0.28024146],\n",
              "       [0.10030306],\n",
              "       [0.3288013 ],\n",
              "       [0.3181914 ],\n",
              "       [0.612699  ],\n",
              "       [0.45851576],\n",
              "       [0.08124528],\n",
              "       [0.41390693],\n",
              "       [0.4410727 ],\n",
              "       [0.23722184],\n",
              "       [0.17703238],\n",
              "       [0.22440593],\n",
              "       [0.2472597 ],\n",
              "       [0.20990361],\n",
              "       [0.5072793 ],\n",
              "       [0.15114118],\n",
              "       [0.22747533],\n",
              "       [0.2425374 ],\n",
              "       [0.21413434],\n",
              "       [0.24169001],\n",
              "       [0.42220208],\n",
              "       [0.05521787],\n",
              "       [0.76923877],\n",
              "       [0.35037   ],\n",
              "       [0.19807015],\n",
              "       [0.42107597],\n",
              "       [0.76803744],\n",
              "       [0.42311317],\n",
              "       [0.2731574 ],\n",
              "       [0.31522453],\n",
              "       [0.23516718],\n",
              "       [0.11696294],\n",
              "       [0.6450619 ],\n",
              "       [0.71442664],\n",
              "       [0.9721076 ],\n",
              "       [0.26567397],\n",
              "       [0.7261815 ],\n",
              "       [0.2777886 ],\n",
              "       [0.21808867],\n",
              "       [0.17707919],\n",
              "       [0.2035911 ],\n",
              "       [0.43331033],\n",
              "       [0.45103776],\n",
              "       [0.62955546],\n",
              "       [0.30211055],\n",
              "       [0.20765145],\n",
              "       [0.4831722 ],\n",
              "       [0.3011667 ],\n",
              "       [0.32090068],\n",
              "       [0.32789266],\n",
              "       [0.04801183],\n",
              "       [0.45819604],\n",
              "       [0.18047771],\n",
              "       [0.6063862 ],\n",
              "       [0.04270221],\n",
              "       [0.27235633],\n",
              "       [0.38847667],\n",
              "       [0.3947602 ],\n",
              "       [0.35521638],\n",
              "       [0.306664  ],\n",
              "       [0.33983755],\n",
              "       [0.5547847 ],\n",
              "       [0.7298536 ],\n",
              "       [0.7701963 ],\n",
              "       [0.24444844],\n",
              "       [0.32270133],\n",
              "       [0.2934431 ],\n",
              "       [0.12498891],\n",
              "       [0.12803625],\n",
              "       [0.1226996 ],\n",
              "       [0.12366957],\n",
              "       [0.2349497 ],\n",
              "       [0.80459636],\n",
              "       [0.1298846 ],\n",
              "       [0.11160304],\n",
              "       [0.2551479 ],\n",
              "       [0.25192267],\n",
              "       [0.8879628 ],\n",
              "       [0.1206926 ],\n",
              "       [0.4695863 ],\n",
              "       [0.38681328],\n",
              "       [0.4618088 ],\n",
              "       [0.25980893],\n",
              "       [0.08682821],\n",
              "       [0.32791626],\n",
              "       [0.23621689],\n",
              "       [0.23521622],\n",
              "       [0.75844616],\n",
              "       [0.42878044],\n",
              "       [0.6703853 ],\n",
              "       [0.20722374],\n",
              "       [0.158199  ],\n",
              "       [0.25085708],\n",
              "       [0.13317385],\n",
              "       [0.25374243],\n",
              "       [0.5197041 ],\n",
              "       [0.13331741],\n",
              "       [0.22322182],\n",
              "       [0.35898304],\n",
              "       [0.2506829 ],\n",
              "       [0.18045042],\n",
              "       [0.50823075],\n",
              "       [0.18110752],\n",
              "       [0.25748777],\n",
              "       [0.22703418],\n",
              "       [0.26921585],\n",
              "       [0.07891257],\n",
              "       [0.4303994 ],\n",
              "       [0.22112142],\n",
              "       [0.24886128],\n",
              "       [0.8372075 ],\n",
              "       [0.53400016],\n",
              "       [0.09950013],\n",
              "       [0.34327358],\n",
              "       [0.1122223 ],\n",
              "       [0.2024348 ],\n",
              "       [0.92215014],\n",
              "       [0.9455577 ],\n",
              "       [0.1561161 ],\n",
              "       [0.5749819 ],\n",
              "       [0.14482866],\n",
              "       [0.52519566],\n",
              "       [0.04278442],\n",
              "       [0.25888667],\n",
              "       [0.3581804 ],\n",
              "       [0.21782342],\n",
              "       [0.08465354],\n",
              "       [0.11787988],\n",
              "       [0.18179297],\n",
              "       [0.74967444],\n",
              "       [0.8153889 ],\n",
              "       [0.20378697],\n",
              "       [0.06637975],\n",
              "       [0.53036076],\n",
              "       [0.16569655],\n",
              "       [0.8780253 ],\n",
              "       [0.47928056],\n",
              "       [0.21111552],\n",
              "       [0.3418889 ],\n",
              "       [0.20627487],\n",
              "       [0.25320035],\n",
              "       [0.12316087],\n",
              "       [0.35120234],\n",
              "       [0.32998198],\n",
              "       [0.660262  ],\n",
              "       [0.1700661 ],\n",
              "       [0.08800497],\n",
              "       [0.6869017 ],\n",
              "       [0.98174644],\n",
              "       [0.1442304 ],\n",
              "       [0.28249368],\n",
              "       [0.2561239 ],\n",
              "       [0.33667547],\n",
              "       [0.06368829],\n",
              "       [0.1678099 ],\n",
              "       [0.6383197 ],\n",
              "       [0.20713146],\n",
              "       [0.7341603 ],\n",
              "       [0.07223747],\n",
              "       [0.39110765],\n",
              "       [0.71447504],\n",
              "       [0.43774742],\n",
              "       [0.03520667],\n",
              "       [0.46223605],\n",
              "       [0.11370247],\n",
              "       [0.11333086],\n",
              "       [0.12199669],\n",
              "       [0.22528283],\n",
              "       [0.51252025],\n",
              "       [0.16670597],\n",
              "       [0.57095104],\n",
              "       [0.21584703],\n",
              "       [0.251386  ],\n",
              "       [0.29915357],\n",
              "       [0.64553624],\n",
              "       [0.7676242 ],\n",
              "       [0.1758836 ],\n",
              "       [0.3084091 ],\n",
              "       [0.8607245 ],\n",
              "       [0.25008032],\n",
              "       [0.23946127],\n",
              "       [0.28033218],\n",
              "       [0.60150844],\n",
              "       [0.3970708 ],\n",
              "       [0.4555555 ],\n",
              "       [0.09926626],\n",
              "       [0.27670142],\n",
              "       [0.6133934 ],\n",
              "       [0.16028146],\n",
              "       [0.24146667],\n",
              "       [0.22006245],\n",
              "       [0.4142718 ],\n",
              "       [0.08113659],\n",
              "       [0.217669  ],\n",
              "       [0.398523  ],\n",
              "       [0.13337334],\n",
              "       [0.81118506],\n",
              "       [0.42333442],\n",
              "       [0.13776574],\n",
              "       [0.21626745],\n",
              "       [0.08557439],\n",
              "       [0.33268297],\n",
              "       [0.3039461 ],\n",
              "       [0.2336561 ],\n",
              "       [0.06288251],\n",
              "       [0.20274954],\n",
              "       [0.34680334],\n",
              "       [0.1259979 ],\n",
              "       [0.0196358 ],\n",
              "       [0.14258796],\n",
              "       [0.3203364 ],\n",
              "       [0.10765865],\n",
              "       [0.36995438],\n",
              "       [0.3077734 ],\n",
              "       [0.4468265 ],\n",
              "       [0.20779312],\n",
              "       [0.44980237],\n",
              "       [0.28284222],\n",
              "       [0.6317065 ],\n",
              "       [0.70488787],\n",
              "       [0.25198376],\n",
              "       [0.75139356],\n",
              "       [0.53226715],\n",
              "       [0.10958977],\n",
              "       [0.6352073 ],\n",
              "       [0.8764488 ],\n",
              "       [0.5540519 ],\n",
              "       [0.1542319 ],\n",
              "       [0.41395134],\n",
              "       [0.07832786],\n",
              "       [0.98570675],\n",
              "       [0.3887114 ],\n",
              "       [0.50287676],\n",
              "       [0.5840747 ],\n",
              "       [0.14068761],\n",
              "       [0.1982278 ],\n",
              "       [0.1667241 ],\n",
              "       [0.7299031 ],\n",
              "       [0.47866598],\n",
              "       [0.30991393],\n",
              "       [0.20997313],\n",
              "       [0.2125222 ],\n",
              "       [0.13508904],\n",
              "       [0.23052065],\n",
              "       [0.29103735],\n",
              "       [0.278694  ],\n",
              "       [0.02410912],\n",
              "       [0.4508936 ],\n",
              "       [0.33012062],\n",
              "       [0.45026746],\n",
              "       [0.5379626 ],\n",
              "       [0.0528982 ],\n",
              "       [0.17869739],\n",
              "       [0.12773861],\n",
              "       [0.32508343],\n",
              "       [0.17243285],\n",
              "       [0.457129  ],\n",
              "       [0.51206464],\n",
              "       [0.33901   ],\n",
              "       [0.44902098],\n",
              "       [0.1274843 ],\n",
              "       [0.33194333],\n",
              "       [0.45458162],\n",
              "       [0.70702386],\n",
              "       [0.16215445],\n",
              "       [0.31578746],\n",
              "       [0.3344161 ],\n",
              "       [0.28284997],\n",
              "       [0.06652257],\n",
              "       [0.17493884],\n",
              "       [0.16753404],\n",
              "       [0.2273257 ],\n",
              "       [0.8152459 ],\n",
              "       [0.471112  ],\n",
              "       [0.09972435],\n",
              "       [0.4876152 ],\n",
              "       [0.14287634],\n",
              "       [0.02134285],\n",
              "       [0.39676434],\n",
              "       [0.20182282],\n",
              "       [0.08560077],\n",
              "       [0.32727104],\n",
              "       [0.07124815],\n",
              "       [0.08438922],\n",
              "       [0.4551076 ],\n",
              "       [0.13180126],\n",
              "       [0.3065305 ],\n",
              "       [0.2238754 ],\n",
              "       [0.27652285],\n",
              "       [0.7715294 ],\n",
              "       [0.5701494 ],\n",
              "       [0.26030076],\n",
              "       [0.2747405 ],\n",
              "       [0.4888497 ],\n",
              "       [0.97092426],\n",
              "       [0.5296048 ],\n",
              "       [0.21222974],\n",
              "       [0.5634904 ],\n",
              "       [0.18590194],\n",
              "       [0.13704653],\n",
              "       [0.18259524],\n",
              "       [0.3319063 ],\n",
              "       [0.83199614],\n",
              "       [0.06096831],\n",
              "       [0.41548035],\n",
              "       [0.37495118],\n",
              "       [0.13806197],\n",
              "       [0.39643034],\n",
              "       [0.1713017 ],\n",
              "       [0.5620446 ],\n",
              "       [0.34784657],\n",
              "       [0.18624626],\n",
              "       [0.32895747],\n",
              "       [0.6031423 ],\n",
              "       [0.12619004],\n",
              "       [0.7945245 ],\n",
              "       [0.48751453],\n",
              "       [0.18089797],\n",
              "       [0.28891   ],\n",
              "       [0.63356745],\n",
              "       [0.52536094],\n",
              "       [0.14936827],\n",
              "       [0.13983127],\n",
              "       [0.27521247],\n",
              "       [0.25032553],\n",
              "       [0.41904604],\n",
              "       [0.30042464],\n",
              "       [0.5728728 ],\n",
              "       [0.79709345],\n",
              "       [0.2327915 ],\n",
              "       [0.2868433 ],\n",
              "       [0.05240097],\n",
              "       [0.17076255],\n",
              "       [0.19857399],\n",
              "       [0.28299364],\n",
              "       [0.31601036],\n",
              "       [0.09553765],\n",
              "       [0.72474045],\n",
              "       [0.18072653],\n",
              "       [0.3015239 ],\n",
              "       [0.39425325],\n",
              "       [0.4020651 ],\n",
              "       [0.5644302 ],\n",
              "       [0.5586224 ],\n",
              "       [0.96385694],\n",
              "       [0.12871815],\n",
              "       [0.10209482],\n",
              "       [0.25865906],\n",
              "       [0.30783173],\n",
              "       [0.19562876],\n",
              "       [0.3402973 ],\n",
              "       [0.9038455 ],\n",
              "       [0.08336493],\n",
              "       [0.27460822],\n",
              "       [0.38881028],\n",
              "       [0.24104586],\n",
              "       [0.05437131],\n",
              "       [0.19030647],\n",
              "       [0.3513235 ],\n",
              "       [0.19143414],\n",
              "       [0.13294198],\n",
              "       [0.77326345],\n",
              "       [0.16348654],\n",
              "       [0.22312845],\n",
              "       [0.11563212],\n",
              "       [0.15779068],\n",
              "       [0.48235628],\n",
              "       [0.30514526],\n",
              "       [0.13112132],\n",
              "       [0.79919887],\n",
              "       [0.12333252],\n",
              "       [0.39240062],\n",
              "       [0.21650279],\n",
              "       [0.16115284],\n",
              "       [0.18136704],\n",
              "       [0.24284549],\n",
              "       [0.11941005],\n",
              "       [0.4981674 ],\n",
              "       [0.06219619],\n",
              "       [0.7267409 ],\n",
              "       [0.12251517],\n",
              "       [0.2557061 ],\n",
              "       [0.38343072],\n",
              "       [0.9149597 ],\n",
              "       [0.32049882],\n",
              "       [0.14958842],\n",
              "       [0.42516407],\n",
              "       [0.10531071],\n",
              "       [0.3439096 ],\n",
              "       [0.20576818],\n",
              "       [0.46370792],\n",
              "       [0.03865643],\n",
              "       [0.3092019 ],\n",
              "       [0.30738008],\n",
              "       [0.36338258],\n",
              "       [0.4372516 ],\n",
              "       [0.16690221],\n",
              "       [0.151084  ],\n",
              "       [0.7035531 ],\n",
              "       [0.66155845],\n",
              "       [0.35647458],\n",
              "       [0.8526356 ],\n",
              "       [0.16718619],\n",
              "       [0.11898187],\n",
              "       [0.09819961],\n",
              "       [0.1275471 ],\n",
              "       [0.45420823],\n",
              "       [0.22335424],\n",
              "       [0.26179573],\n",
              "       [0.05642323],\n",
              "       [0.39762184],\n",
              "       [0.09820465],\n",
              "       [0.16626745],\n",
              "       [0.36124572],\n",
              "       [0.33230668],\n",
              "       [0.24710527],\n",
              "       [0.62238556],\n",
              "       [0.34576532],\n",
              "       [0.09500623],\n",
              "       [0.17856602],\n",
              "       [0.4385583 ],\n",
              "       [0.91777885],\n",
              "       [0.4216526 ],\n",
              "       [0.10999245],\n",
              "       [0.17631084],\n",
              "       [0.80294836],\n",
              "       [0.9424103 ],\n",
              "       [0.12485351],\n",
              "       [0.48771748],\n",
              "       [0.28824276],\n",
              "       [0.07777881],\n",
              "       [0.26512742],\n",
              "       [0.43220508],\n",
              "       [0.6237945 ],\n",
              "       [0.14855869],\n",
              "       [0.5192379 ],\n",
              "       [0.9733122 ],\n",
              "       [0.46667966],\n",
              "       [0.59044665],\n",
              "       [0.349292  ],\n",
              "       [0.1557919 ],\n",
              "       [0.73254305],\n",
              "       [0.14099315],\n",
              "       [0.09300283],\n",
              "       [0.21243294],\n",
              "       [0.18161528],\n",
              "       [0.45504174],\n",
              "       [0.64398944],\n",
              "       [0.22610489],\n",
              "       [0.82891285],\n",
              "       [0.22434804],\n",
              "       [0.32267058],\n",
              "       [0.14363405],\n",
              "       [0.18875419],\n",
              "       [0.29357803],\n",
              "       [0.5906453 ],\n",
              "       [0.1957133 ],\n",
              "       [0.11343491],\n",
              "       [0.85752994],\n",
              "       [0.30015182],\n",
              "       [0.47904393],\n",
              "       [0.10423356],\n",
              "       [0.92098546],\n",
              "       [0.5383268 ],\n",
              "       [0.46974328],\n",
              "       [0.70300066],\n",
              "       [0.6264592 ],\n",
              "       [0.9662822 ],\n",
              "       [0.7377459 ],\n",
              "       [0.31759626],\n",
              "       [0.9293854 ],\n",
              "       [0.9761233 ],\n",
              "       [0.63412464],\n",
              "       [0.1095126 ],\n",
              "       [0.8265473 ],\n",
              "       [0.10797498],\n",
              "       [0.09992117],\n",
              "       [0.09800952],\n",
              "       [0.9044678 ],\n",
              "       [0.07046554],\n",
              "       [0.6346854 ],\n",
              "       [0.19588295],\n",
              "       [0.3441019 ],\n",
              "       [0.1300043 ],\n",
              "       [0.2910385 ],\n",
              "       [0.16523957],\n",
              "       [0.32436362],\n",
              "       [0.773684  ],\n",
              "       [0.43790126],\n",
              "       [0.22354232],\n",
              "       [0.91630435],\n",
              "       [0.0656465 ],\n",
              "       [0.28862628],\n",
              "       [0.20879216],\n",
              "       [0.13355829],\n",
              "       [0.11869355],\n",
              "       [0.3976031 ],\n",
              "       [0.43727726],\n",
              "       [0.08960742],\n",
              "       [0.6978469 ],\n",
              "       [0.5482008 ],\n",
              "       [0.30425936],\n",
              "       [0.1086385 ],\n",
              "       [0.6543026 ],\n",
              "       [0.27592772],\n",
              "       [0.59994096],\n",
              "       [0.25954023],\n",
              "       [0.09661748],\n",
              "       [0.6449846 ],\n",
              "       [0.861139  ],\n",
              "       [0.23456591],\n",
              "       [0.11715281],\n",
              "       [0.10086016]], dtype=float32)"
            ]
          },
          "metadata": {
            "tags": []
          },
          "execution_count": 52
        }
      ]
    },
    {
      "cell_type": "code",
      "metadata": {
        "id": "grF4LQTDVIx0"
      },
      "source": [
        "probabilidade = model.predict(test_generator)"
      ],
      "execution_count": 54,
      "outputs": []
    },
    {
      "cell_type": "code",
      "metadata": {
        "id": "-7td3iL71_pC"
      },
      "source": [
        "df_resultado = df_teste"
      ],
      "execution_count": 57,
      "outputs": []
    },
    {
      "cell_type": "code",
      "metadata": {
        "id": "QsVfD6Uh4Mh3"
      },
      "source": [
        "df_resultado['Probabilidade'] = probabilidade"
      ],
      "execution_count": 63,
      "outputs": []
    },
    {
      "cell_type": "code",
      "metadata": {
        "colab": {
          "base_uri": "https://localhost:8080/",
          "height": 414
        },
        "id": "y2VqOcUZ4MZV",
        "outputId": "aa1ab375-3b7f-4048-fb9d-0dff1b3545aa"
      },
      "source": [
        "df_resultado"
      ],
      "execution_count": 64,
      "outputs": [
        {
          "output_type": "execute_result",
          "data": {
            "text/html": [
              "<div>\n",
              "<style scoped>\n",
              "    .dataframe tbody tr th:only-of-type {\n",
              "        vertical-align: middle;\n",
              "    }\n",
              "\n",
              "    .dataframe tbody tr th {\n",
              "        vertical-align: top;\n",
              "    }\n",
              "\n",
              "    .dataframe thead th {\n",
              "        text-align: right;\n",
              "    }\n",
              "</style>\n",
              "<table border=\"1\" class=\"dataframe\">\n",
              "  <thead>\n",
              "    <tr style=\"text-align: right;\">\n",
              "      <th></th>\n",
              "      <th>image</th>\n",
              "      <th>Probabilidade</th>\n",
              "    </tr>\n",
              "  </thead>\n",
              "  <tbody>\n",
              "    <tr>\n",
              "      <th>0</th>\n",
              "      <td>ISIC_0012086.jpg</td>\n",
              "      <td>0.405311</td>\n",
              "    </tr>\n",
              "    <tr>\n",
              "      <th>1</th>\n",
              "      <td>ISIC_0012092.jpg</td>\n",
              "      <td>0.137792</td>\n",
              "    </tr>\n",
              "    <tr>\n",
              "      <th>2</th>\n",
              "      <td>ISIC_0012095.jpg</td>\n",
              "      <td>0.170495</td>\n",
              "    </tr>\n",
              "    <tr>\n",
              "      <th>3</th>\n",
              "      <td>ISIC_0012134.jpg</td>\n",
              "      <td>0.947797</td>\n",
              "    </tr>\n",
              "    <tr>\n",
              "      <th>4</th>\n",
              "      <td>ISIC_0012136.jpg</td>\n",
              "      <td>0.201789</td>\n",
              "    </tr>\n",
              "    <tr>\n",
              "      <th>...</th>\n",
              "      <td>...</td>\n",
              "      <td>...</td>\n",
              "    </tr>\n",
              "    <tr>\n",
              "      <th>595</th>\n",
              "      <td>ISIC_0016068.jpg</td>\n",
              "      <td>0.031876</td>\n",
              "    </tr>\n",
              "    <tr>\n",
              "      <th>596</th>\n",
              "      <td>ISIC_0016069.jpg</td>\n",
              "      <td>0.167558</td>\n",
              "    </tr>\n",
              "    <tr>\n",
              "      <th>597</th>\n",
              "      <td>ISIC_0016070.jpg</td>\n",
              "      <td>0.167777</td>\n",
              "    </tr>\n",
              "    <tr>\n",
              "      <th>598</th>\n",
              "      <td>ISIC_0016071.jpg</td>\n",
              "      <td>0.089838</td>\n",
              "    </tr>\n",
              "    <tr>\n",
              "      <th>599</th>\n",
              "      <td>ISIC_0016072.jpg</td>\n",
              "      <td>0.543938</td>\n",
              "    </tr>\n",
              "  </tbody>\n",
              "</table>\n",
              "<p>600 rows × 2 columns</p>\n",
              "</div>"
            ],
            "text/plain": [
              "                image  Probabilidade\n",
              "0    ISIC_0012086.jpg       0.405311\n",
              "1    ISIC_0012092.jpg       0.137792\n",
              "2    ISIC_0012095.jpg       0.170495\n",
              "3    ISIC_0012134.jpg       0.947797\n",
              "4    ISIC_0012136.jpg       0.201789\n",
              "..                ...            ...\n",
              "595  ISIC_0016068.jpg       0.031876\n",
              "596  ISIC_0016069.jpg       0.167558\n",
              "597  ISIC_0016070.jpg       0.167777\n",
              "598  ISIC_0016071.jpg       0.089838\n",
              "599  ISIC_0016072.jpg       0.543938\n",
              "\n",
              "[600 rows x 2 columns]"
            ]
          },
          "metadata": {
            "tags": []
          },
          "execution_count": 64
        }
      ]
    },
    {
      "cell_type": "code",
      "metadata": {
        "id": "nmVKUBE449Ug"
      },
      "source": [
        "df_resultado.to_csv('/content/gdrive/MyDrive/Colab Notebooks/resultado_test.csv', index = False)"
      ],
      "execution_count": 65,
      "outputs": []
    }
  ]
}